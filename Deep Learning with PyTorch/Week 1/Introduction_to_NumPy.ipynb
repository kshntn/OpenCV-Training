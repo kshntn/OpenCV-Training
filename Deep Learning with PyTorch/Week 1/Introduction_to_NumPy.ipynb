{
 "cells": [
  {
   "cell_type": "markdown",
   "metadata": {},
   "source": [
    "# <font color='blue'>Numpy Refresher</font>\n",
    "\n",
    "### <font style=\"color:rgb(8,133,37)\">Why do we need a special library for math and DL?</font>\n",
    "Python provides data types such as lists / tuples out of the box. Then, why are we using special libraries for deep learning tasks, such as Pytorch or TensorFlow, and not using standard types?\n",
    "\n",
    "The major reason is efficiency - In pure python, there are no primitive types for numbers, as in e.g. C language. All the data types in Python are objects with lots of properties and methods. You can see it using the `dir` function:"
   ]
  },
  {
   "cell_type": "code",
   "execution_count": 28,
   "metadata": {},
   "outputs": [
    {
     "data": {
      "text/plain": [
       "['as_integer_ratio',\n",
       " 'bit_count',\n",
       " 'bit_length',\n",
       " 'conjugate',\n",
       " 'denominator',\n",
       " 'from_bytes',\n",
       " 'imag',\n",
       " 'numerator',\n",
       " 'real',\n",
       " 'to_bytes']"
      ]
     },
     "execution_count": 28,
     "metadata": {},
     "output_type": "execute_result"
    }
   ],
   "source": [
    "a = 3\n",
    "dir(a)[-10:]"
   ]
  },
  {
   "cell_type": "markdown",
   "metadata": {},
   "source": [
    "### <font style=\"color:rgb(8,133,37)\">Python Issues</font>\n",
    "\n",
    "- slow in tasks that require tons of simple math operations on numbers\n",
    "- huge memory overhead due to storing plain numbers as objects\n",
    "- runtime overhead during memory dereferencing - cache issues\n",
    "\n",
    "\n",
    "NumPy is an abbreviation for \"numerical python\" and as it stands from the naming it provides a rich collection of operations on the numerical data types with a python interface. The core data structure of NumPy is `ndarray` - a multidimensional array. Let's take a look at its interface in comparison with plain python lists."
   ]
  },
  {
   "cell_type": "markdown",
   "metadata": {},
   "source": [
    "# <font color='blue'>Performance comparison of Numpy array and Python lists </font>\n",
    "\n",
    "Let's imagine a simple task - we have several 2-dimensional points and we want to represent them as a list of points for further processing. For the sake of simplicity of processing we will not create a `Point` object and will use a list of 2 elements to represent coordinates of each point (`x` and `y`):"
   ]
  },
  {
   "cell_type": "code",
   "execution_count": 29,
   "metadata": {},
   "outputs": [
    {
     "data": {
      "text/plain": [
       "[[0, 1], [10, 5], [7, 3]]"
      ]
     },
     "execution_count": 29,
     "metadata": {},
     "output_type": "execute_result"
    }
   ],
   "source": [
    "# create points list using explicit specification of coordinates of each point\n",
    "points = [[0, 1], [10, 5], [7, 3]]\n",
    "points"
   ]
  },
  {
   "cell_type": "code",
   "execution_count": 30,
   "metadata": {},
   "outputs": [
    {
     "data": {
      "text/plain": [
       "[[9, 18],\n",
       " [2, 44],\n",
       " [5, 50],\n",
       " [10, 41],\n",
       " [0, 13],\n",
       " [4, 47],\n",
       " [5, 41],\n",
       " [2, 43],\n",
       " [4, 33],\n",
       " [4, 48]]"
      ]
     },
     "execution_count": 30,
     "metadata": {},
     "output_type": "execute_result"
    }
   ],
   "source": [
    "# create random points\n",
    "from random import randint\n",
    "\n",
    "num_dims = 2\n",
    "num_points = 10\n",
    "x_range = (0, 10)\n",
    "y_range = (1, 50)\n",
    "points = [[randint(*x_range), randint(*y_range)] for _ in range(num_points)]\n",
    "points"
   ]
  },
  {
   "cell_type": "markdown",
   "metadata": {},
   "source": [
    "**How can we do the same using Numpy? Easy!**"
   ]
  },
  {
   "cell_type": "code",
   "execution_count": 31,
   "metadata": {},
   "outputs": [
    {
     "data": {
      "text/plain": [
       "array([[ 9, 18],\n",
       "       [ 2, 44],\n",
       "       [ 5, 50],\n",
       "       [10, 41],\n",
       "       [ 0, 13],\n",
       "       [ 4, 47],\n",
       "       [ 5, 41],\n",
       "       [ 2, 43],\n",
       "       [ 4, 33],\n",
       "       [ 4, 48]])"
      ]
     },
     "execution_count": 31,
     "metadata": {},
     "output_type": "execute_result"
    }
   ],
   "source": [
    "import numpy as np\n",
    "points = np.array(points)  # we are able to create numpy arrays from python lists\n",
    "points"
   ]
  },
  {
   "cell_type": "code",
   "execution_count": 32,
   "metadata": {},
   "outputs": [
    {
     "data": {
      "text/plain": [
       "array([[ 8, 14],\n",
       "       [ 9, 46],\n",
       "       [ 5,  3],\n",
       "       [ 2, 44],\n",
       "       [ 1, 49],\n",
       "       [ 7, 18],\n",
       "       [10, 48],\n",
       "       [10, 31],\n",
       "       [ 3,  7],\n",
       "       [ 2,  2]])"
      ]
     },
     "execution_count": 32,
     "metadata": {},
     "output_type": "execute_result"
    }
   ],
   "source": [
    "# create random points using numpy library\n",
    "num_dims = 2\n",
    "num_points = 10\n",
    "x_range = (0, 11)\n",
    "y_range = (1, 51)\n",
    "points = np.random.randint(\n",
    "    low=(x_range[0], y_range[0]), high=(x_range[1], y_range[1]), size=(num_points, num_dims)\n",
    ")\n",
    "points"
   ]
  },
  {
   "cell_type": "markdown",
   "metadata": {},
   "source": [
    "**It may look as over-complication to use NumPy for the creation of such a list and we still cannot see the good sides of this approach. But let's take a look at the performance side.**"
   ]
  },
  {
   "cell_type": "code",
   "execution_count": 33,
   "metadata": {},
   "outputs": [],
   "source": [
    "num_dims = 2\n",
    "num_points = 100000\n",
    "x_range = (0, 10)\n",
    "y_range = (1, 50)"
   ]
  },
  {
   "cell_type": "markdown",
   "metadata": {},
   "source": [
    "### <font style=\"color:rgb(8,133,37)\">Python performance</font>"
   ]
  },
  {
   "cell_type": "code",
   "execution_count": 34,
   "metadata": {},
   "outputs": [
    {
     "name": "stdout",
     "output_type": "stream",
     "text": [
      "102 ms ± 515 µs per loop (mean ± std. dev. of 7 runs, 10 loops each)\n"
     ]
    }
   ],
   "source": [
    "%timeit \\\n",
    "points = [[randint(*x_range), randint(*y_range)] for _ in range(num_points)]"
   ]
  },
  {
   "cell_type": "markdown",
   "metadata": {},
   "source": [
    "### <font style=\"color:rgb(8,133,37)\">NumPy performance</font>"
   ]
  },
  {
   "cell_type": "code",
   "execution_count": 35,
   "metadata": {},
   "outputs": [
    {
     "name": "stdout",
     "output_type": "stream",
     "text": [
      "3.28 ms ± 16.5 µs per loop (mean ± std. dev. of 7 runs, 100 loops each)\n"
     ]
    }
   ],
   "source": [
    "%timeit \\\n",
    "points = np.random.randint(low=(x_range[0], y_range[0]), high=(x_range[1], y_range[1]), size=(num_points, num_dims))"
   ]
  },
  {
   "cell_type": "markdown",
   "metadata": {},
   "source": [
    "Wow, NumPy is **around 50 times faster** than pure Python on this task! One may say that the size of the array we're generating is relatively large, but it's very reasonable if we take into account the dimensions of inputs (and weights) in neural networks (or math problems such as hydrodynamics)."
   ]
  },
  {
   "cell_type": "markdown",
   "metadata": {},
   "source": [
    "# <font style=\"color:blue\">Basics of Numpy </font>\n",
    "We will go over some of the useful operations of Numpy arrays, which are most commonly used in ML tasks."
   ]
  },
  {
   "cell_type": "markdown",
   "metadata": {},
   "source": [
    "## <font color='blue'>1. Basic Operations </font>\n"
   ]
  },
  {
   "cell_type": "markdown",
   "metadata": {},
   "source": [
    "### <font style=\"color:rgb(8,133,37)\">1.1. Python list to numpy array</font>"
   ]
  },
  {
   "cell_type": "code",
   "execution_count": 36,
   "metadata": {},
   "outputs": [
    {
     "data": {
      "text/plain": [
       "array([ 1,  2,  3,  4,  5,  6,  7,  8,  9, 10])"
      ]
     },
     "execution_count": 36,
     "metadata": {},
     "output_type": "execute_result"
    }
   ],
   "source": [
    "py_list = [1, 2, 3, 4, 5, 6, 7, 8, 9, 10]\n",
    "\n",
    "np_array = np.array(py_list)\n",
    "np_array"
   ]
  },
  {
   "cell_type": "code",
   "execution_count": 37,
   "metadata": {},
   "outputs": [
    {
     "data": {
      "text/plain": [
       "array([[ 1,  2,  3],\n",
       "       [ 4,  5,  6],\n",
       "       [ 7,  8,  9],\n",
       "       [10, 11, 12]])"
      ]
     },
     "execution_count": 37,
     "metadata": {},
     "output_type": "execute_result"
    }
   ],
   "source": [
    "py_list = [[1, 2, 3], [4, 5, 6], [7, 8, 9], [10, 11, 12]]\n",
    "\n",
    "np_array= np.array(py_list)\n",
    "np_array"
   ]
  },
  {
   "cell_type": "markdown",
   "metadata": {},
   "source": [
    "### <font style=\"color:rgb(8,133,37)\">1.2. Slicing and Indexing</font>"
   ]
  },
  {
   "cell_type": "code",
   "execution_count": 38,
   "metadata": {},
   "outputs": [
    {
     "name": "stdout",
     "output_type": "stream",
     "text": [
      "First row:\t\t\t[1 2 3]\n",
      "First column:\t\t\t[ 1  4  7 10]\n",
      "3rd row 2nd column element:\t8\n",
      "2nd onwards row and 2nd onwards column:\n",
      "[[ 5  6]\n",
      " [ 8  9]\n",
      " [11 12]]\n",
      "Last 2 rows and last 2 columns:\n",
      "[[ 8  9]\n",
      " [11 12]]\n",
      "Array with 3rd, 1st and 4th row:\n",
      "[[ 7  8  9]\n",
      " [ 1  2  3]\n",
      " [10 11 12]]\n"
     ]
    }
   ],
   "source": [
    "print('First row:\\t\\t\\t{}'.format(np_array[0]))\n",
    "print('First column:\\t\\t\\t{}'.format(np_array[:, 0]))\n",
    "print('3rd row 2nd column element:\\t{}'.format(np_array[2][1]))\n",
    "print('2nd onwards row and 2nd onwards column:\\n{}'.format(np_array[1:, 1:]))\n",
    "print('Last 2 rows and last 2 columns:\\n{}'.format(np_array[-2:, -2:]))\n",
    "print('Array with 3rd, 1st and 4th row:\\n{}'.format(np_array[[2, 0, 3]]))"
   ]
  },
  {
   "cell_type": "markdown",
   "metadata": {},
   "source": [
    "### <font style=\"color:rgb(8,133,37)\">1.3. Basic attributes of NumPy array</font>\n",
    "\n",
    "Get a full list of attributes of an ndarray object [here](https://numpy.org/devdocs/user/quickstart.html)."
   ]
  },
  {
   "cell_type": "code",
   "execution_count": 39,
   "metadata": {},
   "outputs": [
    {
     "name": "stdout",
     "output_type": "stream",
     "text": [
      "Data type:\tint32\n",
      "Array shape:\t(4, 3)\n"
     ]
    }
   ],
   "source": [
    "print('Data type:\\t{}'.format(np_array.dtype))\n",
    "print('Array shape:\\t{}'.format(np_array.shape))"
   ]
  },
  {
   "cell_type": "markdown",
   "metadata": {},
   "source": [
    "Let's create a function (with name `array_info`) to print the NumPy array, its shape, and its data type. We use this function to print arrays further in this section. \n"
   ]
  },
  {
   "cell_type": "code",
   "execution_count": 40,
   "metadata": {},
   "outputs": [
    {
     "name": "stdout",
     "output_type": "stream",
     "text": [
      "Array:\n",
      "[[ 1  2  3]\n",
      " [ 4  5  6]\n",
      " [ 7  8  9]\n",
      " [10 11 12]]\n",
      "Data type:\tint32\n",
      "Array shape:\t(4, 3)\n",
      "\n"
     ]
    }
   ],
   "source": [
    "def array_info(array):\n",
    "    print('Array:\\n{}'.format(array))\n",
    "    print('Data type:\\t{}'.format(array.dtype))\n",
    "    print('Array shape:\\t{}\\n'.format(array.shape))\n",
    "    \n",
    "array_info(np_array)"
   ]
  },
  {
   "cell_type": "markdown",
   "metadata": {},
   "source": [
    "### <font style=\"color:rgb(8,133,37)\">1.4. Creating NumPy array using built-in functions and datatypes</font>\n",
    "\n",
    "The full list of supported data types can be found [here](https://numpy.org/devdocs/user/basics.types.html).\n"
   ]
  },
  {
   "cell_type": "markdown",
   "metadata": {},
   "source": [
    "**Sequence Array**\n",
    "\n",
    "`np.arange([start, ]stop, [step, ]dtype=None)`\n",
    "\n",
    "Return evenly spaced values in `[start, stop)`.\n",
    "\n",
    "More delatis of the function can be found [here](https://docs.scipy.org/doc/numpy/reference/generated/numpy.arange.html)."
   ]
  },
  {
   "cell_type": "code",
   "execution_count": 41,
   "metadata": {},
   "outputs": [
    {
     "name": "stdout",
     "output_type": "stream",
     "text": [
      "Array:\n",
      "[0 1 2 3 4 5 6 7 8 9]\n",
      "Data type:\tint64\n",
      "Array shape:\t(10,)\n",
      "\n"
     ]
    }
   ],
   "source": [
    "# sequence array\n",
    "array = np.arange(10, dtype=np.int64)\n",
    "array_info(array)"
   ]
  },
  {
   "cell_type": "code",
   "execution_count": 42,
   "metadata": {},
   "outputs": [
    {
     "name": "stdout",
     "output_type": "stream",
     "text": [
      "Array:\n",
      "[5. 6. 7. 8. 9.]\n",
      "Data type:\tfloat64\n",
      "Array shape:\t(5,)\n",
      "\n"
     ]
    }
   ],
   "source": [
    "# sequence array\n",
    "array = np.arange(5, 10, dtype=np.float64)\n",
    "array_info(array)"
   ]
  },
  {
   "cell_type": "markdown",
   "metadata": {},
   "source": [
    "**Zeroes Array**"
   ]
  },
  {
   "cell_type": "code",
   "execution_count": 43,
   "metadata": {},
   "outputs": [
    {
     "name": "stdout",
     "output_type": "stream",
     "text": [
      "Array:\n",
      "[[0. 0. 0.]\n",
      " [0. 0. 0.]]\n",
      "Data type:\tfloat32\n",
      "Array shape:\t(2, 3)\n",
      "\n"
     ]
    }
   ],
   "source": [
    "# Zero array/matrix\n",
    "zeros = np.zeros((2, 3), dtype=np.float32)\n",
    "array_info(zeros)"
   ]
  },
  {
   "cell_type": "markdown",
   "metadata": {},
   "source": [
    "**Ones Array**"
   ]
  },
  {
   "cell_type": "code",
   "execution_count": 44,
   "metadata": {},
   "outputs": [
    {
     "name": "stdout",
     "output_type": "stream",
     "text": [
      "Array:\n",
      "[[1 1]\n",
      " [1 1]\n",
      " [1 1]]\n",
      "Data type:\tint8\n",
      "Array shape:\t(3, 2)\n",
      "\n"
     ]
    }
   ],
   "source": [
    "# ones array/matrix\n",
    "ones = np.ones((3, 2), dtype=np.int8)\n",
    "array_info(ones)"
   ]
  },
  {
   "cell_type": "markdown",
   "metadata": {},
   "source": [
    "**Constant Array**"
   ]
  },
  {
   "cell_type": "code",
   "execution_count": 45,
   "metadata": {},
   "outputs": [
    {
     "name": "stdout",
     "output_type": "stream",
     "text": [
      "Array:\n",
      "[[3.14 3.14 3.14]\n",
      " [3.14 3.14 3.14]\n",
      " [3.14 3.14 3.14]]\n",
      "Data type:\tfloat64\n",
      "Array shape:\t(3, 3)\n",
      "\n"
     ]
    }
   ],
   "source": [
    "# constant array/matrix\n",
    "array = np.full((3, 3), 3.14)\n",
    "array_info(array)"
   ]
  },
  {
   "cell_type": "markdown",
   "metadata": {},
   "source": [
    "**Identity Array**"
   ]
  },
  {
   "cell_type": "code",
   "execution_count": 46,
   "metadata": {},
   "outputs": [
    {
     "name": "stdout",
     "output_type": "stream",
     "text": [
      "Array:\n",
      "[[1. 0. 0. 0. 0.]\n",
      " [0. 1. 0. 0. 0.]\n",
      " [0. 0. 1. 0. 0.]\n",
      " [0. 0. 0. 1. 0.]\n",
      " [0. 0. 0. 0. 1.]]\n",
      "Data type:\tfloat32\n",
      "Array shape:\t(5, 5)\n",
      "\n"
     ]
    }
   ],
   "source": [
    "# identity array/matrix\n",
    "identity = np.eye(5, dtype=np.float32)      # identity matrix of shape 5x5\n",
    "array_info(identity)"
   ]
  },
  {
   "cell_type": "markdown",
   "metadata": {},
   "source": [
    "**Random Integers Array**\n",
    "\n",
    "`np.random.randint(low, high=None, size=None, dtype='l')`\n",
    "\n",
    "Return random integer from the `discrete uniform` distribution in `[low, high)`. If high is `None`, then return elements are in `[0, low)`\n",
    "\n",
    "More details can be found [here](https://docs.scipy.org/doc/numpy-1.15.1/reference/generated/numpy.random.randint.html)."
   ]
  },
  {
   "cell_type": "code",
   "execution_count": 47,
   "metadata": {},
   "outputs": [
    {
     "name": "stdout",
     "output_type": "stream",
     "text": [
      "Array:\n",
      "[[7 5 9]\n",
      " [9 9 8]]\n",
      "Data type:\tint32\n",
      "Array shape:\t(2, 3)\n",
      "\n"
     ]
    }
   ],
   "source": [
    "# random integers array/matrix\n",
    "rand_int = np.random.randint(5, 10, (2,3)) # random integer array of shape 2x3, values lies in [5, 10)\n",
    "array_info(rand_int)"
   ]
  },
  {
   "cell_type": "markdown",
   "metadata": {},
   "source": [
    "**Random Array**\n",
    "\n",
    "`np.random.random(size=None)`\n",
    "\n",
    "Results are from the `continuous uniform` distribution in `[0.0, 1.0)`.\n",
    "\n",
    "These types of functions are useful is initializing the weight in Deep Learning. More details and similar functions can found [here](https://docs.scipy.org/doc/numpy-1.14.0/reference/generated/numpy.random.random.html)."
   ]
  },
  {
   "cell_type": "code",
   "execution_count": 48,
   "metadata": {},
   "outputs": [
    {
     "name": "stdout",
     "output_type": "stream",
     "text": [
      "Array:\n",
      "[[0.07068848 0.38812803 0.94753795 0.87162126 0.03885764]\n",
      " [0.52180023 0.94821527 0.75788769 0.77698332 0.64086509]\n",
      " [0.99434545 0.4035261  0.69670921 0.69128205 0.62178452]\n",
      " [0.26255681 0.05750621 0.18914943 0.38517883 0.3474494 ]\n",
      " [0.24522984 0.4866769  0.10704824 0.27910955 0.42053748]]\n",
      "Data type:\tfloat64\n",
      "Array shape:\t(5, 5)\n",
      "\n"
     ]
    }
   ],
   "source": [
    "# random array/matrix\n",
    "random_array = np.random.random((5, 5))   # random array of shape 5x5\n",
    "array_info(random_array)"
   ]
  },
  {
   "cell_type": "markdown",
   "metadata": {},
   "source": [
    "**Boolean Array**\n",
    "\n",
    "If we compare above `random_array` with some `constant` or `array` of the same shape, we will get a boolean array."
   ]
  },
  {
   "cell_type": "code",
   "execution_count": 49,
   "metadata": {},
   "outputs": [
    {
     "name": "stdout",
     "output_type": "stream",
     "text": [
      "Array:\n",
      "[[False False  True  True False]\n",
      " [ True  True  True  True  True]\n",
      " [ True False  True  True  True]\n",
      " [False False False False False]\n",
      " [False False False False False]]\n",
      "Data type:\tbool\n",
      "Array shape:\t(5, 5)\n",
      "\n"
     ]
    }
   ],
   "source": [
    "# Boolean array/matrix\n",
    "bool_array = random_array > 0.5\n",
    "array_info(bool_array)"
   ]
  },
  {
   "cell_type": "markdown",
   "metadata": {},
   "source": [
    "The boolean array can be used to get value from the array. If we use a boolean array of the same shape as indices, we will get those values for which the boolean array is True, and other values will be masked.\n",
    "\n",
    "Let's use the above `boolen_array` to get values from `random_array`."
   ]
  },
  {
   "cell_type": "code",
   "execution_count": 50,
   "metadata": {},
   "outputs": [
    {
     "name": "stdout",
     "output_type": "stream",
     "text": [
      "Array:\n",
      "[0.94753795 0.87162126 0.52180023 0.94821527 0.75788769 0.77698332\n",
      " 0.64086509 0.99434545 0.69670921 0.69128205 0.62178452]\n",
      "Data type:\tfloat64\n",
      "Array shape:\t(11,)\n",
      "\n"
     ]
    }
   ],
   "source": [
    "# Use boolean array/matrix to get values from array/matrix\n",
    "values = random_array[bool_array]\n",
    "array_info(values)"
   ]
  },
  {
   "cell_type": "markdown",
   "metadata": {},
   "source": [
    "Basically, from the above method, we are filtering values that are greater than `0.5`. "
   ]
  },
  {
   "cell_type": "markdown",
   "metadata": {},
   "source": [
    "**Linespace**\n",
    "\n",
    "`np.linspace(start, stop, num=50, endpoint=True, retstep=False, dtype=None, axis=0)`\n",
    "\n",
    "Returns num evenly spaced samples, calculated over the interval `[start, stop]`.\n",
    "\n",
    "More detais about the function find [here](https://docs.scipy.org/doc/numpy/reference/generated/numpy.linspace.html)"
   ]
  },
  {
   "cell_type": "code",
   "execution_count": 51,
   "metadata": {},
   "outputs": [
    {
     "name": "stdout",
     "output_type": "stream",
     "text": [
      "Array:\n",
      "[0.        0.8333333 1.6666666 2.5       3.3333333 4.1666665 5.       ]\n",
      "Data type:\tfloat32\n",
      "Array shape:\t(7,)\n",
      "\n"
     ]
    }
   ],
   "source": [
    "# Linspace\n",
    "linespace = np.linspace(0, 5, 7, dtype=np.float32)   # 7 elements between 0 and 5\n",
    "array_info(linespace)"
   ]
  },
  {
   "cell_type": "markdown",
   "metadata": {},
   "source": [
    "### <font style=\"color:rgb(8,133,37)\">1.5. Data type conversion</font>\n",
    "\n",
    "Sometimes it is essential to convert one data type to another data type."
   ]
  },
  {
   "cell_type": "code",
   "execution_count": 52,
   "metadata": {},
   "outputs": [
    {
     "name": "stdout",
     "output_type": "stream",
     "text": [
      "Array:\n",
      "[19 24 97 43 34 27 96 10 46  3]\n",
      "Data type:\tint32\n",
      "Array shape:\t(10,)\n",
      "\n"
     ]
    }
   ],
   "source": [
    "age_in_years = np.random.randint(0, 100, 10)\n",
    "array_info(age_in_years)"
   ]
  },
  {
   "cell_type": "markdown",
   "metadata": {},
   "source": [
    "Do we really need an `int64` data type to store age?\n",
    "\n",
    "So let's convert it to `uint8`."
   ]
  },
  {
   "cell_type": "code",
   "execution_count": 53,
   "metadata": {},
   "outputs": [
    {
     "name": "stdout",
     "output_type": "stream",
     "text": [
      "Array:\n",
      "[19 24 97 43 34 27 96 10 46  3]\n",
      "Data type:\tuint8\n",
      "Array shape:\t(10,)\n",
      "\n"
     ]
    }
   ],
   "source": [
    "age_in_years = age_in_years.astype(np.uint8)\n",
    "array_info(age_in_years)"
   ]
  },
  {
   "cell_type": "markdown",
   "metadata": {},
   "source": [
    "Let's convert it to `float128`. 😜"
   ]
  },
  {
   "cell_type": "code",
   "execution_count": 54,
   "metadata": {},
   "outputs": [
    {
     "ename": "AttributeError",
     "evalue": "module 'numpy' has no attribute 'float128'",
     "output_type": "error",
     "traceback": [
      "\u001b[1;31m---------------------------------------------------------------------------\u001b[0m",
      "\u001b[1;31mAttributeError\u001b[0m                            Traceback (most recent call last)",
      "Cell \u001b[1;32mIn[54], line 1\u001b[0m\n\u001b[1;32m----> 1\u001b[0m age_in_years \u001b[38;5;241m=\u001b[39m age_in_years\u001b[38;5;241m.\u001b[39mastype(\u001b[43mnp\u001b[49m\u001b[38;5;241;43m.\u001b[39;49m\u001b[43mfloat128\u001b[49m)\n\u001b[0;32m      2\u001b[0m array_info(age_in_years)\n",
      "File \u001b[1;32mC:\\Program Files\\Python310\\lib\\site-packages\\numpy\\__init__.py:347\u001b[0m, in \u001b[0;36m__getattr__\u001b[1;34m(attr)\u001b[0m\n\u001b[0;32m    344\u001b[0m     \u001b[38;5;124m\"\u001b[39m\u001b[38;5;124mRemoved in NumPy 1.25.0\u001b[39m\u001b[38;5;124m\"\u001b[39m\n\u001b[0;32m    345\u001b[0m     \u001b[38;5;28;01mraise\u001b[39;00m \u001b[38;5;167;01mRuntimeError\u001b[39;00m(\u001b[38;5;124m\"\u001b[39m\u001b[38;5;124mTester was removed in NumPy 1.25.\u001b[39m\u001b[38;5;124m\"\u001b[39m)\n\u001b[1;32m--> 347\u001b[0m \u001b[38;5;28;01mraise\u001b[39;00m \u001b[38;5;167;01mAttributeError\u001b[39;00m(\u001b[38;5;124m\"\u001b[39m\u001b[38;5;124mmodule \u001b[39m\u001b[38;5;132;01m{!r}\u001b[39;00m\u001b[38;5;124m has no attribute \u001b[39m\u001b[38;5;124m\"\u001b[39m\n\u001b[0;32m    348\u001b[0m                      \u001b[38;5;124m\"\u001b[39m\u001b[38;5;132;01m{!r}\u001b[39;00m\u001b[38;5;124m\"\u001b[39m\u001b[38;5;241m.\u001b[39mformat(\u001b[38;5;18m__name__\u001b[39m, attr))\n",
      "\u001b[1;31mAttributeError\u001b[0m: module 'numpy' has no attribute 'float128'"
     ]
    }
   ],
   "source": [
    "age_in_years = age_in_years.astype(np.float128)\n",
    "array_info(age_in_years)"
   ]
  },
  {
   "cell_type": "markdown",
   "metadata": {},
   "source": [
    "## <font color='blue'>2. Mathematical functions </font>\n",
    "\n",
    "Numpy supports a lot of Mathematical operations with array/matrix. Here we will see a few of them which are useful in Deep Learning. All supported functions can be found [here](https://docs.scipy.org/doc/numpy-1.13.0/reference/routines.math.html)."
   ]
  },
  {
   "cell_type": "markdown",
   "metadata": {},
   "source": [
    "### <font style=\"color:rgb(8,133,37)\">2.1. Exponential Function </font>\n",
    "Exponential functions ( also called `exp` ) are used in neural networks as activations functions. They are used in softmax functions which is widely used in Classification tasks.\n",
    "\n",
    "Return element-wise `exponential` of `array`.\n",
    "\n",
    "More details of `np.exp` can be found **[here](https://docs.scipy.org/doc/numpy-1.13.0/reference/generated/numpy.exp.html#numpy.exp)**"
   ]
  },
  {
   "cell_type": "code",
   "execution_count": 55,
   "metadata": {},
   "outputs": [
    {
     "name": "stdout",
     "output_type": "stream",
     "text": [
      "Array:\n",
      "[[-1. -1. -1.]\n",
      " [ 0.  0.  0.]\n",
      " [ 1.  1.  1.]]\n",
      "Data type:\tfloat64\n",
      "Array shape:\t(3, 3)\n",
      "\n",
      "Exponential of an array:\n",
      "Array:\n",
      "[[0.36787944 0.36787944 0.36787944]\n",
      " [1.         1.         1.        ]\n",
      " [2.71828183 2.71828183 2.71828183]]\n",
      "Data type:\tfloat64\n",
      "Array shape:\t(3, 3)\n",
      "\n"
     ]
    }
   ],
   "source": [
    "array = np.array([np.full(3, -1), np.zeros(3), np.ones(3)])\n",
    "array_info(array)\n",
    "\n",
    "# exponential of a array/matrix\n",
    "print('Exponential of an array:')\n",
    "exp_array = np.exp(array)\n",
    "array_info(exp_array)"
   ]
  },
  {
   "cell_type": "markdown",
   "metadata": {},
   "source": [
    "### <font style=\"color:rgb(8,133,37)\">2.2. Square Root </font>\n",
    "\n",
    "`np.sqrt` return the element-wise `square-root` (`non-negative`) of an array.\n",
    "\n",
    "More details of the function can be found [here](https://docs.scipy.org/doc/numpy/reference/generated/numpy.sqrt.html)\n",
    "\n",
    "`Root Mean Square Error` (`RMSE`) and `Mean Absolute Error` (`MAE`) commonly used to measure the `accuracy` of continuous variables."
   ]
  },
  {
   "cell_type": "code",
   "execution_count": 56,
   "metadata": {},
   "outputs": [
    {
     "name": "stdout",
     "output_type": "stream",
     "text": [
      "Array:\n",
      "[0 1 2 3 4 5 6 7 8 9]\n",
      "Data type:\tint32\n",
      "Array shape:\t(10,)\n",
      "\n",
      "Square root:\n",
      "Array:\n",
      "[0.         1.         1.41421356 1.73205081 2.         2.23606798\n",
      " 2.44948974 2.64575131 2.82842712 3.        ]\n",
      "Data type:\tfloat64\n",
      "Array shape:\t(10,)\n",
      "\n"
     ]
    }
   ],
   "source": [
    "array = np.arange(10)\n",
    "array_info(array)\n",
    "\n",
    "print('Square root:')\n",
    "root_array = np.sqrt(array)\n",
    "array_info(root_array)"
   ]
  },
  {
   "cell_type": "markdown",
   "metadata": {},
   "source": [
    "### <font style=\"color:rgb(8,133,37)\">2.3. Logrithm </font>\n",
    "\n",
    "`np.log` return element-wise natural logrithm of an array.\n",
    "\n",
    "More details of the function can be found [here](https://docs.scipy.org/doc/numpy/reference/generated/numpy.log.html)\n",
    "\n",
    "`Cross-Entropy` / `log loss` is the most commonly used loss in Machine Learning classification problem. "
   ]
  },
  {
   "cell_type": "code",
   "execution_count": 57,
   "metadata": {},
   "outputs": [
    {
     "name": "stdout",
     "output_type": "stream",
     "text": [
      "Array:\n",
      "[ 0.          2.71828183  7.3890561   1.         10.        ]\n",
      "Data type:\tfloat64\n",
      "Array shape:\t(5,)\n",
      "\n",
      "Logrithm:\n",
      "Array:\n",
      "[      -inf 1.         2.         0.         2.30258509]\n",
      "Data type:\tfloat64\n",
      "Array shape:\t(5,)\n",
      "\n"
     ]
    },
    {
     "name": "stderr",
     "output_type": "stream",
     "text": [
      "C:\\Users\\kshnt\\AppData\\Local\\Temp\\ipykernel_7596\\4157081557.py:5: RuntimeWarning: divide by zero encountered in log\n",
      "  log_array = np.log(array)\n"
     ]
    }
   ],
   "source": [
    "array = np.array([0, np.e, np.e**2, 1, 10])\n",
    "array_info(array)\n",
    "\n",
    "print('Logrithm:')\n",
    "log_array = np.log(array)\n",
    "array_info(log_array)"
   ]
  },
  {
   "cell_type": "markdown",
   "metadata": {},
   "source": [
    "<font color='red'>**Note:** Getting warning because we are trying to calculate `log(0)`.</font>"
   ]
  },
  {
   "cell_type": "markdown",
   "metadata": {},
   "source": [
    "### <font style=\"color:rgb(8,133,37)\">2.4. Power </font>\n",
    "\n",
    "`numpy.power(x1, x2)`\n",
    "\n",
    "Returns first array elements raised to powers from second array, element-wise.\n",
    "\n",
    "Second array must be broadcastable to first array.\n",
    "\n",
    "What is **broadcasting**? We will see later.\n",
    "\n",
    "More detalis about the function can be found [here](https://docs.scipy.org/doc/numpy/reference/generated/numpy.power.html)"
   ]
  },
  {
   "cell_type": "code",
   "execution_count": 63,
   "metadata": {},
   "outputs": [
    {
     "name": "stdout",
     "output_type": "stream",
     "text": [
      "Array:\n",
      "[0 1 2 3 4 5]\n",
      "Data type:\tint64\n",
      "Array shape:\t(6,)\n",
      "\n",
      "Power 3:\n",
      "Array:\n",
      "[  0   1   8  27  64 125]\n",
      "Data type:\tint64\n",
      "Array shape:\t(6,)\n",
      "\n"
     ]
    }
   ],
   "source": [
    "array = np.arange(0, 6, dtype=np.int64)\n",
    "array_info(array)\n",
    "\n",
    "print('Power 3:')\n",
    "pow_array = np.power(array, 3)\n",
    "array_info(pow_array)"
   ]
  },
  {
   "cell_type": "markdown",
   "metadata": {},
   "source": [
    "### <font style=\"color:rgb(8,133,37)\">2.5. Clip Values </font>\n",
    "\n",
    "`np.clip(a, a_min, a_max)`\n",
    "\n",
    "Return element-wise cliped values between `a_min` and `a_max`.\n",
    "\n",
    "More details of the finction can be found [here](https://docs.scipy.org/doc/numpy/reference/generated/numpy.clip.html)\n",
    "\n",
    "`Rectified Linear Unit` (`ReLU`) is the most commonly used activation function in Deep Learning.\n",
    "\n",
    "What ReLU do?\n",
    "\n",
    "If the value is less than zero, it makes it zero otherwise leave as it is. In NumPy assignment will be implementing this activation function using NumPy."
   ]
  },
  {
   "cell_type": "code",
   "execution_count": 59,
   "metadata": {},
   "outputs": [
    {
     "name": "stdout",
     "output_type": "stream",
     "text": [
      "Array:\n",
      "[[0.10376685 0.79717984 0.98345524]\n",
      " [0.97352625 0.58480103 0.23639341]\n",
      " [0.37469167 0.70934592 0.46380274]]\n",
      "Data type:\tfloat64\n",
      "Array shape:\t(3, 3)\n",
      "\n",
      "Clipped between 0.2 and 0.5\n",
      "Array:\n",
      "[[0.2        0.5        0.5       ]\n",
      " [0.5        0.5        0.23639341]\n",
      " [0.37469167 0.5        0.46380274]]\n",
      "Data type:\tfloat64\n",
      "Array shape:\t(3, 3)\n",
      "\n",
      "Clipped to 0.2\n",
      "Array:\n",
      "[[0.2        0.79717984 0.98345524]\n",
      " [0.97352625 0.58480103 0.23639341]\n",
      " [0.37469167 0.70934592 0.46380274]]\n",
      "Data type:\tfloat64\n",
      "Array shape:\t(3, 3)\n",
      "\n"
     ]
    }
   ],
   "source": [
    "array = np.random.random((3, 3))\n",
    "array_info(array)\n",
    "\n",
    "# clipped between 0.2 and 0.5\n",
    "print('Clipped between 0.2 and 0.5')\n",
    "cliped_array = np.clip(array, 0.2, 0.5)\n",
    "array_info(cliped_array)\n",
    "\n",
    "# clipped to 0.2\n",
    "print('Clipped to 0.2')\n",
    "cliped_array = np.clip(array, 0.2, np.inf)\n",
    "array_info(cliped_array)"
   ]
  },
  {
   "cell_type": "markdown",
   "metadata": {},
   "source": [
    "## <font color='blue'>3. Reshape ndarray </font>\n",
    "\n",
    "Reshaping the array / matrix is very often required in Machine Learning and Computer vision. "
   ]
  },
  {
   "cell_type": "markdown",
   "metadata": {},
   "source": [
    "### <font style=\"color:rgb(8,133,37)\">3.1. Reshape </font>\n",
    "\n",
    "`np.reshape` gives an array in new shape, without changing its data.\n",
    "\n",
    "More details of the function can be found [here](https://docs.scipy.org/doc/numpy/reference/generated/numpy.reshape.html)"
   ]
  },
  {
   "cell_type": "code",
   "execution_count": 64,
   "metadata": {},
   "outputs": [
    {
     "name": "stdout",
     "output_type": "stream",
     "text": [
      "Array:\n",
      "[1 2 3 4 5 6 7 8 9]\n",
      "Data type:\tint32\n",
      "Array shape:\t(9,)\n",
      "\n",
      "Reshape to 3x3:\n",
      "Array:\n",
      "[[1 2 3]\n",
      " [4 5 6]\n",
      " [7 8 9]]\n",
      "Data type:\tint32\n",
      "Array shape:\t(3, 3)\n",
      "\n",
      "Reshape 3x3 to 3x3x1:\n",
      "Array:\n",
      "[[[1]\n",
      "  [2]\n",
      "  [3]]\n",
      "\n",
      " [[4]\n",
      "  [5]\n",
      "  [6]]\n",
      "\n",
      " [[7]\n",
      "  [8]\n",
      "  [9]]]\n",
      "Data type:\tint32\n",
      "Array shape:\t(3, 3, 1)\n",
      "\n"
     ]
    }
   ],
   "source": [
    "a = np.arange(1, 10, dtype=np.int_)\n",
    "array_info(a)\n",
    "\n",
    "print('Reshape to 3x3:')\n",
    "a_3x3 = a.reshape(3, 3)\n",
    "array_info(a_3x3)\n",
    "\n",
    "print('Reshape 3x3 to 3x3x1:')\n",
    "a_3x3x1 = a_3x3.reshape(3, 3, 1)\n",
    "array_info(a_3x3x1)"
   ]
  },
  {
   "cell_type": "markdown",
   "metadata": {},
   "source": [
    "### <font style=\"color:rgb(8,133,37)\">3.2. Expand Dim </font>\n",
    "\n",
    "`np.expand_dims`\n",
    "\n",
    "In the last reshape, we have added a new axis. We can use `np.expand_dims` or `np.newaxis` to do the same thing.\n",
    "\n",
    "Mode details for `np.expand_dim` can be found [here](https://docs.scipy.org/doc/numpy/reference/generated/numpy.expand_dims.html)"
   ]
  },
  {
   "cell_type": "code",
   "execution_count": 65,
   "metadata": {},
   "outputs": [
    {
     "name": "stdout",
     "output_type": "stream",
     "text": [
      "Using np.expand_dims:\n",
      "Array:\n",
      "[[[1]\n",
      "  [2]\n",
      "  [3]]\n",
      "\n",
      " [[4]\n",
      "  [5]\n",
      "  [6]]\n",
      "\n",
      " [[7]\n",
      "  [8]\n",
      "  [9]]]\n",
      "Data type:\tint32\n",
      "Array shape:\t(3, 3, 1)\n",
      "\n",
      "Using np.newaxis:\n",
      "Array:\n",
      "[[[1]\n",
      "  [2]\n",
      "  [3]]\n",
      "\n",
      " [[4]\n",
      "  [5]\n",
      "  [6]]\n",
      "\n",
      " [[7]\n",
      "  [8]\n",
      "  [9]]]\n",
      "Data type:\tint32\n",
      "Array shape:\t(3, 3, 1)\n",
      "\n"
     ]
    }
   ],
   "source": [
    "print('Using np.expand_dims:')\n",
    "a_expand = np.expand_dims(a_3x3, axis=2)\n",
    "array_info(a_expand)\n",
    "\n",
    "print('Using np.newaxis:')\n",
    "a_newaxis = a_3x3[..., np.newaxis]\n",
    "# or \n",
    "# a_newaxis = a_3x3[:, :, np.newaxis]\n",
    "array_info(a_newaxis)"
   ]
  },
  {
   "cell_type": "markdown",
   "metadata": {},
   "source": [
    "### <font style=\"color:rgb(8,133,37)\">3.3. Squeeze </font>\n",
    "\n",
    "Sometimes we need to remove the redundant axis (single-dimensional entries). We can use `np.squeeze` to do this.\n",
    "\n",
    "More details of `np.squeeze` can be found [here](https://docs.scipy.org/doc/numpy/reference/generated/numpy.squeeze.html)\n",
    "\n",
    "Deep Learning very often uses this functionality."
   ]
  },
  {
   "cell_type": "code",
   "execution_count": 66,
   "metadata": {},
   "outputs": [
    {
     "name": "stdout",
     "output_type": "stream",
     "text": [
      "Squeeze along axis=2:\n",
      "Array:\n",
      "[[1 2 3]\n",
      " [4 5 6]\n",
      " [7 8 9]]\n",
      "Data type:\tint32\n",
      "Array shape:\t(3, 3)\n",
      "\n",
      "Squeeze along axis=1, should get ValueError\n"
     ]
    },
    {
     "ename": "ValueError",
     "evalue": "cannot select an axis to squeeze out which has size not equal to one",
     "output_type": "error",
     "traceback": [
      "\u001b[1;31m---------------------------------------------------------------------------\u001b[0m",
      "\u001b[1;31mValueError\u001b[0m                                Traceback (most recent call last)",
      "Cell \u001b[1;32mIn[66], line 7\u001b[0m\n\u001b[0;32m      5\u001b[0m \u001b[38;5;66;03m# should get value error\u001b[39;00m\n\u001b[0;32m      6\u001b[0m \u001b[38;5;28mprint\u001b[39m(\u001b[38;5;124m'\u001b[39m\u001b[38;5;124mSqueeze along axis=1, should get ValueError\u001b[39m\u001b[38;5;124m'\u001b[39m)\n\u001b[1;32m----> 7\u001b[0m a_squeezed_error \u001b[38;5;241m=\u001b[39m \u001b[43mnp\u001b[49m\u001b[38;5;241;43m.\u001b[39;49m\u001b[43msqueeze\u001b[49m\u001b[43m(\u001b[49m\u001b[43ma_newaxis\u001b[49m\u001b[43m,\u001b[49m\u001b[43m \u001b[49m\u001b[43maxis\u001b[49m\u001b[38;5;241;43m=\u001b[39;49m\u001b[38;5;241;43m1\u001b[39;49m\u001b[43m)\u001b[49m  \u001b[38;5;66;03m# Getting error because of the size of \u001b[39;00m\n\u001b[0;32m      8\u001b[0m                                                   \u001b[38;5;66;03m# axis-1 is not equal to one.\u001b[39;00m\n",
      "File \u001b[1;32mC:\\Program Files\\Python310\\lib\\site-packages\\numpy\\core\\fromnumeric.py:1558\u001b[0m, in \u001b[0;36msqueeze\u001b[1;34m(a, axis)\u001b[0m\n\u001b[0;32m   1556\u001b[0m     \u001b[38;5;28;01mreturn\u001b[39;00m squeeze()\n\u001b[0;32m   1557\u001b[0m \u001b[38;5;28;01melse\u001b[39;00m:\n\u001b[1;32m-> 1558\u001b[0m     \u001b[38;5;28;01mreturn\u001b[39;00m \u001b[43msqueeze\u001b[49m\u001b[43m(\u001b[49m\u001b[43maxis\u001b[49m\u001b[38;5;241;43m=\u001b[39;49m\u001b[43maxis\u001b[49m\u001b[43m)\u001b[49m\n",
      "\u001b[1;31mValueError\u001b[0m: cannot select an axis to squeeze out which has size not equal to one"
     ]
    }
   ],
   "source": [
    "print('Squeeze along axis=2:')\n",
    "a_squeezed = np.squeeze(a_newaxis, axis=2)\n",
    "array_info(a_squeezed)\n",
    "\n",
    "# should get value error\n",
    "print('Squeeze along axis=1, should get ValueError')\n",
    "a_squeezed_error = np.squeeze(a_newaxis, axis=1)  # Getting error because of the size of \n",
    "                                                  # axis-1 is not equal to one."
   ]
  },
  {
   "cell_type": "markdown",
   "metadata": {},
   "source": [
    "<font color='red'>**Note:** Getting error because of the size of axis-1 is not equal to one.</font>"
   ]
  },
  {
   "cell_type": "markdown",
   "metadata": {},
   "source": [
    "### <font style=\"color:rgb(8,133,37)\">3.4. Reshape revisit </font>\n",
    "\n",
    "We have a 1-d array of length n. We want to reshape in a 2-d array such that the number of columns becomes two, and we do not care about the number of rows. "
   ]
  },
  {
   "cell_type": "code",
   "execution_count": 67,
   "metadata": {},
   "outputs": [
    {
     "name": "stdout",
     "output_type": "stream",
     "text": [
      "Array:\n",
      "[0 1 2 3 4 5 6 7 8 9]\n",
      "Data type:\tint32\n",
      "Array shape:\t(10,)\n",
      "\n",
      "Reshape such that number of column is 2:\n",
      "Array:\n",
      "[[0 1]\n",
      " [2 3]\n",
      " [4 5]\n",
      " [6 7]\n",
      " [8 9]]\n",
      "Data type:\tint32\n",
      "Array shape:\t(5, 2)\n",
      "\n"
     ]
    }
   ],
   "source": [
    "a = np.arange(10)\n",
    "array_info(a)\n",
    "\n",
    "print('Reshape such that number of column is 2:')\n",
    "a_col_2 = a.reshape(-1, 2)\n",
    "array_info(a_col_2)"
   ]
  },
  {
   "cell_type": "markdown",
   "metadata": {},
   "source": [
    "## <font color='blue'>4. Combine Arrays / Matrix </font>\n",
    "\n",
    "Combining two or more arrays is a frequent operation in machine learning. Let's have a look at a few methods. \n"
   ]
  },
  {
   "cell_type": "markdown",
   "metadata": {},
   "source": [
    "### <font style=\"color:rgb(8,133,37)\">4.1. Concatenate </font>\n",
    "\n",
    "`np.concatenate`, Join a sequence of arrays along an existing axis.\n",
    "\n",
    "More details of the function find [here](https://docs.scipy.org/doc/numpy/reference/generated/numpy.concatenate.html)"
   ]
  },
  {
   "cell_type": "code",
   "execution_count": 68,
   "metadata": {},
   "outputs": [
    {
     "name": "stdout",
     "output_type": "stream",
     "text": [
      "Concatenate along axis zero:\n",
      "Array:\n",
      "[[1 2 3]\n",
      " [4 5 6]\n",
      " [7 8 9]]\n",
      "Data type:\tint32\n",
      "Array shape:\t(3, 3)\n",
      "\n"
     ]
    }
   ],
   "source": [
    "a1 = np.array([[1, 2, 3], [4, 5, 6]])\n",
    "a2 = np.array([[7, 8, 9]])\n",
    "\n",
    "print('Concatenate along axis zero:')\n",
    "array = np.concatenate((a1, a2), axis=0)\n",
    "array_info(array)"
   ]
  },
  {
   "cell_type": "markdown",
   "metadata": {},
   "source": [
    "### <font style=\"color:rgb(8,133,37)\">4.2. hstack </font>\n",
    "\n",
    "`np.hstack`, stack arrays in sequence horizontally (column-wise).\n",
    "\n",
    "More details of the function find [here](https://docs.scipy.org/doc/numpy/reference/generated/numpy.hstack.html#numpy.hstack)"
   ]
  },
  {
   "cell_type": "code",
   "execution_count": 69,
   "metadata": {},
   "outputs": [
    {
     "name": "stdout",
     "output_type": "stream",
     "text": [
      "Horizontal stack:\n",
      "Array:\n",
      "[1 2 3 4 5 6]\n",
      "Data type:\tint32\n",
      "Array shape:\t(6,)\n",
      "\n"
     ]
    }
   ],
   "source": [
    "a1 = np.array((1, 2, 3))\n",
    "a2 = np.array((4, 5, 6))\n",
    "a_hstacked = np.hstack((a1,a2))\n",
    "\n",
    "print('Horizontal stack:')\n",
    "array_info(a_hstacked)"
   ]
  },
  {
   "cell_type": "code",
   "execution_count": 70,
   "metadata": {},
   "outputs": [
    {
     "name": "stdout",
     "output_type": "stream",
     "text": [
      "Horizontal stack:\n",
      "Array:\n",
      "[[1 4]\n",
      " [2 5]\n",
      " [3 6]]\n",
      "Data type:\tint32\n",
      "Array shape:\t(3, 2)\n",
      "\n"
     ]
    }
   ],
   "source": [
    "a1 = np.array([[1],[2],[3]])\n",
    "a2 = np.array([[4],[5],[6]])\n",
    "a_hstacked = np.hstack((a1,a2))\n",
    "\n",
    "print('Horizontal stack:')\n",
    "array_info(a_hstacked)"
   ]
  },
  {
   "cell_type": "markdown",
   "metadata": {},
   "source": [
    "### <font style=\"color:rgb(8,133,37)\">4.3. vstack </font>\n",
    "\n",
    "`np.vstack`, tack arrays in sequence vertically (row-wise).\n",
    "\n",
    "More details of the function find [here](https://docs.scipy.org/doc/numpy/reference/generated/numpy.vstack.html#numpy.vstack)"
   ]
  },
  {
   "cell_type": "code",
   "execution_count": 71,
   "metadata": {},
   "outputs": [
    {
     "name": "stdout",
     "output_type": "stream",
     "text": [
      "Vertical stack:\n",
      "Array:\n",
      "[[1 2 3]\n",
      " [4 5 6]]\n",
      "Data type:\tint32\n",
      "Array shape:\t(2, 3)\n",
      "\n"
     ]
    }
   ],
   "source": [
    "a1 = np.array([1, 2, 3])\n",
    "a2 = np.array([4, 5, 6])\n",
    "a_vstacked = np.vstack((a1, a2))\n",
    "\n",
    "print('Vertical stack:')\n",
    "array_info(a_vstacked)"
   ]
  },
  {
   "cell_type": "code",
   "execution_count": 72,
   "metadata": {},
   "outputs": [
    {
     "name": "stdout",
     "output_type": "stream",
     "text": [
      "Vertical stack:\n",
      "Array:\n",
      "[[ 1 11]\n",
      " [ 2 22]\n",
      " [ 3 33]\n",
      " [ 4 44]\n",
      " [ 5 55]\n",
      " [ 6 66]]\n",
      "Data type:\tint32\n",
      "Array shape:\t(6, 2)\n",
      "\n"
     ]
    }
   ],
   "source": [
    "a1 = np.array([[1, 11], [2, 22], [3, 33]])\n",
    "a2 = np.array([[4, 44], [5, 55], [6, 66]])\n",
    "a_vstacked = np.vstack((a1, a2))\n",
    "\n",
    "print('Vertical stack:')\n",
    "array_info(a_vstacked)"
   ]
  },
  {
   "cell_type": "markdown",
   "metadata": {},
   "source": [
    "## <font color='blue'>5. Element wise Operations </font>\n"
   ]
  },
  {
   "cell_type": "markdown",
   "metadata": {},
   "source": [
    "Let's generate a random number to show element-wise operations. "
   ]
  },
  {
   "cell_type": "code",
   "execution_count": 73,
   "metadata": {},
   "outputs": [
    {
     "name": "stdout",
     "output_type": "stream",
     "text": [
      "Array:\n",
      "[[0.8903993  0.76304351 0.01553615 0.13333255]\n",
      " [0.1725165  0.38257936 0.06446716 0.84583013]\n",
      " [0.24904868 0.17656678 0.84187344 0.46502524]\n",
      " [0.23824858 0.08808282 0.45731691 0.26453397]]\n",
      "Data type:\tfloat64\n",
      "Array shape:\t(4, 4)\n",
      "\n",
      "Array:\n",
      "[[0.52170037 0.22862922 0.89422199 0.97077784]\n",
      " [0.12650976 0.90768827 0.02410292 0.68981576]\n",
      " [0.69809832 0.84329117 0.32644034 0.09610542]\n",
      " [0.53550182 0.47001942 0.17996203 0.97792516]]\n",
      "Data type:\tfloat64\n",
      "Array shape:\t(4, 4)\n",
      "\n"
     ]
    }
   ],
   "source": [
    "a = np.random.random((4,4))\n",
    "b = np.random.random((4,4))\n",
    "array_info(a)\n",
    "array_info(b)"
   ]
  },
  {
   "cell_type": "markdown",
   "metadata": {},
   "source": [
    "### <font style=\"color:rgb(8,133,37)\">5.1. Element wise Scalar Operation </font>"
   ]
  },
  {
   "cell_type": "markdown",
   "metadata": {},
   "source": [
    "**Scalar Addition**"
   ]
  },
  {
   "cell_type": "code",
   "execution_count": 74,
   "metadata": {},
   "outputs": [
    {
     "data": {
      "text/plain": [
       "array([[5.8903993 , 5.76304351, 5.01553615, 5.13333255],\n",
       "       [5.1725165 , 5.38257936, 5.06446716, 5.84583013],\n",
       "       [5.24904868, 5.17656678, 5.84187344, 5.46502524],\n",
       "       [5.23824858, 5.08808282, 5.45731691, 5.26453397]])"
      ]
     },
     "execution_count": 74,
     "metadata": {},
     "output_type": "execute_result"
    }
   ],
   "source": [
    "a + 5 # element wise scalar addition"
   ]
  },
  {
   "cell_type": "markdown",
   "metadata": {},
   "source": [
    "**Scalar Subtraction**"
   ]
  },
  {
   "cell_type": "code",
   "execution_count": 75,
   "metadata": {},
   "outputs": [
    {
     "data": {
      "text/plain": [
       "array([[-4.1096007 , -4.23695649, -4.98446385, -4.86666745],\n",
       "       [-4.8274835 , -4.61742064, -4.93553284, -4.15416987],\n",
       "       [-4.75095132, -4.82343322, -4.15812656, -4.53497476],\n",
       "       [-4.76175142, -4.91191718, -4.54268309, -4.73546603]])"
      ]
     },
     "execution_count": 75,
     "metadata": {},
     "output_type": "execute_result"
    }
   ],
   "source": [
    "a - 5 # element wise scalar subtraction"
   ]
  },
  {
   "cell_type": "markdown",
   "metadata": {},
   "source": [
    "**Scalar Multiplication**"
   ]
  },
  {
   "cell_type": "code",
   "execution_count": 76,
   "metadata": {},
   "outputs": [
    {
     "data": {
      "text/plain": [
       "array([[8.90399301, 7.63043514, 0.15536151, 1.33332554],\n",
       "       [1.72516503, 3.82579361, 0.64467156, 8.45830126],\n",
       "       [2.49048678, 1.76566776, 8.41873444, 4.65025239],\n",
       "       [2.38248581, 0.88082815, 4.57316907, 2.64533965]])"
      ]
     },
     "execution_count": 76,
     "metadata": {},
     "output_type": "execute_result"
    }
   ],
   "source": [
    "a * 10 # element wise scalar multiplication"
   ]
  },
  {
   "cell_type": "markdown",
   "metadata": {},
   "source": [
    "**Scalar Division**"
   ]
  },
  {
   "cell_type": "code",
   "execution_count": 77,
   "metadata": {},
   "outputs": [
    {
     "data": {
      "text/plain": [
       "array([[0.08903993, 0.07630435, 0.00155362, 0.01333326],\n",
       "       [0.01725165, 0.03825794, 0.00644672, 0.08458301],\n",
       "       [0.02490487, 0.01765668, 0.08418734, 0.04650252],\n",
       "       [0.02382486, 0.00880828, 0.04573169, 0.0264534 ]])"
      ]
     },
     "execution_count": 77,
     "metadata": {},
     "output_type": "execute_result"
    }
   ],
   "source": [
    "a/10 # element wise scalar division"
   ]
  },
  {
   "cell_type": "markdown",
   "metadata": {},
   "source": [
    "### <font style=\"color:rgb(8,133,37)\">5.2. Element wise Array Operations </font>"
   ]
  },
  {
   "cell_type": "markdown",
   "metadata": {},
   "source": [
    "**Arrays Addition**"
   ]
  },
  {
   "cell_type": "code",
   "execution_count": 78,
   "metadata": {},
   "outputs": [
    {
     "data": {
      "text/plain": [
       "array([[1.41209967, 0.99167274, 0.90975814, 1.10411039],\n",
       "       [0.29902626, 1.29026763, 0.08857007, 1.53564588],\n",
       "       [0.947147  , 1.01985795, 1.16831378, 0.56113066],\n",
       "       [0.7737504 , 0.55810223, 0.63727893, 1.24245913]])"
      ]
     },
     "execution_count": 78,
     "metadata": {},
     "output_type": "execute_result"
    }
   ],
   "source": [
    "a + b # element wise array/vector addition"
   ]
  },
  {
   "cell_type": "markdown",
   "metadata": {},
   "source": [
    "**Arrays Subtraction**"
   ]
  },
  {
   "cell_type": "code",
   "execution_count": 79,
   "metadata": {},
   "outputs": [
    {
     "data": {
      "text/plain": [
       "array([[ 0.36869893,  0.53441429, -0.87868584, -0.83744528],\n",
       "       [ 0.04600675, -0.52510891,  0.04036424,  0.15601437],\n",
       "       [-0.44904964, -0.6667244 ,  0.5154331 ,  0.36891982],\n",
       "       [-0.29725324, -0.3819366 ,  0.27735488, -0.7133912 ]])"
      ]
     },
     "execution_count": 79,
     "metadata": {},
     "output_type": "execute_result"
    }
   ],
   "source": [
    "a - b # element wise array/vector subtraction"
   ]
  },
  {
   "cell_type": "markdown",
   "metadata": {},
   "source": [
    "**Arrays Multiplication**"
   ]
  },
  {
   "cell_type": "code",
   "execution_count": 80,
   "metadata": {},
   "outputs": [
    {
     "data": {
      "text/plain": [
       "array([[0.46452164, 0.17445405, 0.01389277, 0.12943629],\n",
       "       [0.02182502, 0.3472628 , 0.00155385, 0.58346695],\n",
       "       [0.17386046, 0.1488972 , 0.27482145, 0.04469144],\n",
       "       [0.12758255, 0.04140063, 0.08229968, 0.25869442]])"
      ]
     },
     "execution_count": 80,
     "metadata": {},
     "output_type": "execute_result"
    }
   ],
   "source": [
    "a * b # element wise array/vector multiplication"
   ]
  },
  {
   "cell_type": "markdown",
   "metadata": {},
   "source": [
    "**Arrays Division**"
   ]
  },
  {
   "cell_type": "code",
   "execution_count": 81,
   "metadata": {},
   "outputs": [
    {
     "data": {
      "text/plain": [
       "array([[1.70672546, 3.33747151, 0.01737393, 0.1373461 ],\n",
       "       [1.36366165, 0.42148761, 2.67466193, 1.22616817],\n",
       "       [0.35675301, 0.20937819, 2.57895039, 4.83869959],\n",
       "       [0.44490714, 0.1874025 , 2.54118558, 0.27050533]])"
      ]
     },
     "execution_count": 81,
     "metadata": {},
     "output_type": "execute_result"
    }
   ],
   "source": [
    "a / b # element wise array/vector division"
   ]
  },
  {
   "cell_type": "markdown",
   "metadata": {},
   "source": [
    "We can notice that the dimension of both arrays is equal in above arrays element-wise operations. **What if dimensions are not equal.** Let's check!!"
   ]
  },
  {
   "cell_type": "code",
   "execution_count": 82,
   "metadata": {},
   "outputs": [
    {
     "name": "stdout",
     "output_type": "stream",
     "text": [
      "Array \"a\":\n",
      "Array:\n",
      "[[0.8903993  0.76304351 0.01553615 0.13333255]\n",
      " [0.1725165  0.38257936 0.06446716 0.84583013]\n",
      " [0.24904868 0.17656678 0.84187344 0.46502524]\n",
      " [0.23824858 0.08808282 0.45731691 0.26453397]]\n",
      "Data type:\tfloat64\n",
      "Array shape:\t(4, 4)\n",
      "\n",
      "Array \"c\":\n",
      "Array:\n",
      "[[0.28810832 0.28591762]\n",
      " [0.87301679 0.48380329]]\n",
      "Data type:\tfloat64\n",
      "Array shape:\t(2, 2)\n",
      "\n"
     ]
    },
    {
     "ename": "ValueError",
     "evalue": "operands could not be broadcast together with shapes (4,4) (2,2) ",
     "output_type": "error",
     "traceback": [
      "\u001b[1;31m---------------------------------------------------------------------------\u001b[0m",
      "\u001b[1;31mValueError\u001b[0m                                Traceback (most recent call last)",
      "Cell \u001b[1;32mIn[82], line 7\u001b[0m\n\u001b[0;32m      5\u001b[0m array_info(c)\n\u001b[0;32m      6\u001b[0m \u001b[38;5;66;03m# Should throw ValueError\u001b[39;00m\n\u001b[1;32m----> 7\u001b[0m \u001b[43ma\u001b[49m\u001b[43m \u001b[49m\u001b[38;5;241;43m+\u001b[39;49m\u001b[43m \u001b[49m\u001b[43mc\u001b[49m\n",
      "\u001b[1;31mValueError\u001b[0m: operands could not be broadcast together with shapes (4,4) (2,2) "
     ]
    }
   ],
   "source": [
    "print('Array \"a\":')\n",
    "array_info(a)\n",
    "print('Array \"c\":')\n",
    "c = np.random.rand(2, 2)\n",
    "array_info(c)\n",
    "# Should throw ValueError\n",
    "a + c"
   ]
  },
  {
   "cell_type": "markdown",
   "metadata": {},
   "source": [
    "<font color='red'>**Oh got the ValueError!!**</font>\n",
    "\n",
    "What is this error?\n",
    "\n",
    "<font color='red'>ValueError</font>: operands could not be broadcast together with shapes `(4,4)` `(2,2)` \n",
    "\n",
    "**Let's see it next.**\n"
   ]
  },
  {
   "cell_type": "markdown",
   "metadata": {},
   "source": [
    "### <font style=\"color:rgb(8,133,37)\">5.3. Broadcasting </font>\n",
    "\n",
    "There is a concept of broadcasting in NumPy, which tries to copy rows or columns in the lower-dimensional array to make an equal dimensional array of higher-dimensional array. \n",
    "\n",
    "Let's try to understand with a simple example."
   ]
  },
  {
   "cell_type": "code",
   "execution_count": 83,
   "metadata": {},
   "outputs": [
    {
     "name": "stdout",
     "output_type": "stream",
     "text": [
      "Array \"a\":\n",
      "Array:\n",
      "[[1 2 3]\n",
      " [4 5 6]\n",
      " [7 8 9]]\n",
      "Data type:\tint32\n",
      "Array shape:\t(3, 3)\n",
      "\n",
      "Array \"b\":\n",
      "Array:\n",
      "[0 1 0]\n",
      "Data type:\tint32\n",
      "Array shape:\t(3,)\n",
      "\n",
      "Array \"a+b\":\n",
      "Array:\n",
      "[[1 3 3]\n",
      " [4 6 6]\n",
      " [7 9 9]]\n",
      "Data type:\tint32\n",
      "Array shape:\t(3, 3)\n",
      "\n"
     ]
    }
   ],
   "source": [
    "a = np.array([[1, 2, 3], [4, 5, 6],[7, 8, 9]])\n",
    "b = np.array([0, 1, 0])\n",
    "\n",
    "print('Array \"a\":')\n",
    "array_info(a)\n",
    "print('Array \"b\":')\n",
    "array_info(b)\n",
    "\n",
    "print('Array \"a+b\":')\n",
    "array_info(a+b)  # b is reshaped such that it can be added to a.\n",
    "\n",
    "\n",
    "# b = [0,1,0] is broadcasted to     [[0, 1, 0],\n",
    "#                                    [0, 1, 0],\n",
    "#                                    [0, 1, 0]]  and added to a."
   ]
  },
  {
   "cell_type": "markdown",
   "metadata": {},
   "source": [
    "## <font color='blue'>6. Linear Algebra</font>\n",
    "\n",
    "Here we see commonly use linear algebra operations in Machine Learning. "
   ]
  },
  {
   "cell_type": "markdown",
   "metadata": {},
   "source": [
    "### <font style=\"color:rgb(8,133,37)\">6.1. Transpose </font>"
   ]
  },
  {
   "cell_type": "code",
   "execution_count": 84,
   "metadata": {},
   "outputs": [
    {
     "name": "stdout",
     "output_type": "stream",
     "text": [
      "Array \"a\":\n",
      "Array:\n",
      "[[0.65604166 0.34952936 0.1026121 ]\n",
      " [0.69613354 0.54598302 0.40095364]]\n",
      "Data type:\tfloat64\n",
      "Array shape:\t(2, 3)\n",
      "\n",
      "Transose of \"a\":\n",
      "Array:\n",
      "[[0.65604166 0.69613354]\n",
      " [0.34952936 0.54598302]\n",
      " [0.1026121  0.40095364]]\n",
      "Data type:\tfloat64\n",
      "Array shape:\t(3, 2)\n",
      "\n"
     ]
    }
   ],
   "source": [
    "a = np.random.random((2,3))\n",
    "print('Array \"a\":')\n",
    "array_info(a)\n",
    "\n",
    "print('Transose of \"a\":')\n",
    "a_transpose = a.transpose()\n",
    "array_info(a_transpose)"
   ]
  },
  {
   "cell_type": "markdown",
   "metadata": {},
   "source": [
    "### <font style=\"color:rgb(8,133,37)\">6.2. Matrix Multiplication</font>\n",
    "We will discuss 2 ways of performing Matrix Multiplication.\n",
    "\n",
    "- `matmul`\n",
    "- Python `@` operator\n",
    "\n",
    "**Using matmul function in numpy**\n",
    "This is the most used approach for multiplying two matrices using Numpy. [See docs](https://docs.scipy.org/doc/numpy/reference/generated/numpy.matmul.html)"
   ]
  },
  {
   "cell_type": "code",
   "execution_count": 85,
   "metadata": {},
   "outputs": [
    {
     "name": "stdout",
     "output_type": "stream",
     "text": [
      "Array \"a\":\n",
      "Array:\n",
      "[[0.81099018 0.01888977 0.25427991 0.0130877 ]\n",
      " [0.58528276 0.49701189 0.73165428 0.81240062]\n",
      " [0.99797453 0.58652035 0.81045708 0.09660894]]\n",
      "Data type:\tfloat64\n",
      "Array shape:\t(3, 4)\n",
      "\n",
      "Array \"b\"\n",
      "Array:\n",
      "[[0.74814383 0.99006887]\n",
      " [0.24668778 0.08604526]\n",
      " [0.55028296 0.3975443 ]\n",
      " [0.38330233 0.67902884]]\n",
      "Data type:\tfloat64\n",
      "Array shape:\t(4, 2)\n",
      "\n",
      "matrix multiplication of a and b:\n",
      "Array:\n",
      "[[0.75633963 0.91453597]\n",
      " [1.27449438 1.4647442 ]\n",
      " [1.37432705 1.42632367]]\n",
      "Data type:\tfloat64\n",
      "Array shape:\t(3, 2)\n",
      "\n",
      "(3, 4) x (4, 2) --> (3, 2)\n"
     ]
    }
   ],
   "source": [
    "a = np.random.random((3, 4))\n",
    "b = np.random.random((4, 2))\n",
    "\n",
    "print('Array \"a\":')\n",
    "array_info(a)\n",
    "print('Array \"b\"')\n",
    "array_info(b)\n",
    "\n",
    "c = np.matmul(a,b) # matrix multiplication of a and b\n",
    "\n",
    "print('matrix multiplication of a and b:')\n",
    "array_info(c)\n",
    "\n",
    "print('{} x {} --> {}'.format(a.shape, b.shape, c.shape)) # dim1 of a and dim0 of b has to be \n",
    "                                                        # same for matrix multiplication"
   ]
  },
  {
   "cell_type": "markdown",
   "metadata": {},
   "source": [
    "**Using `@` operator**\n",
    "This method of multiplication was introduced in Python 3.5. [See docs](https://www.python.org/dev/peps/pep-0465/)"
   ]
  },
  {
   "cell_type": "code",
   "execution_count": 86,
   "metadata": {},
   "outputs": [
    {
     "name": "stdout",
     "output_type": "stream",
     "text": [
      "Array \"a\":\n",
      "Array:\n",
      "[[0.74479114 0.00436585 0.2803884  0.8175808 ]\n",
      " [0.44834433 0.86381676 0.6997344  0.75470535]\n",
      " [0.79771881 0.53734866 0.90185076 0.27282859]]\n",
      "Data type:\tfloat64\n",
      "Array shape:\t(3, 4)\n",
      "\n",
      "Array \"b\"\n",
      "Array:\n",
      "[[0.97907992 0.94116184]\n",
      " [0.37729667 0.66399399]\n",
      " [0.47033485 0.06003545]\n",
      " [0.07323678 0.18128341]]\n",
      "Data type:\tfloat64\n",
      "Array shape:\t(4, 2)\n",
      "\n",
      "Array:\n",
      "[[0.92261069 0.86891497]\n",
      " [1.14926179 1.17435814]\n",
      " [1.42792326 1.2111811 ]]\n",
      "Data type:\tfloat64\n",
      "Array shape:\t(3, 2)\n",
      "\n"
     ]
    }
   ],
   "source": [
    "a = np.random.random((3, 4))\n",
    "b = np.random.random((4, 2))\n",
    "\n",
    "print('Array \"a\":')\n",
    "array_info(a)\n",
    "print('Array \"b\"')\n",
    "array_info(b)\n",
    "\n",
    "c = a@b # matrix multiplication of a and b\n",
    "array_info(c)"
   ]
  },
  {
   "cell_type": "markdown",
   "metadata": {},
   "source": [
    "### <font style=\"color:rgb(8,133,37)\">6.3. Inverse</font>"
   ]
  },
  {
   "cell_type": "code",
   "execution_count": 87,
   "metadata": {},
   "outputs": [
    {
     "name": "stdout",
     "output_type": "stream",
     "text": [
      "Array \"A\":\n",
      "Array:\n",
      "[[0.31844473 0.82719397 0.61502929]\n",
      " [0.98971781 0.1878449  0.46150891]\n",
      " [0.11078117 0.29183517 0.1667272 ]]\n",
      "Data type:\tfloat64\n",
      "Array shape:\t(3, 3)\n",
      "\n",
      "Inverse of \"A\" (\"A_inverse\"):\n",
      "Array:\n",
      "[[ -2.74029004   1.10208539   7.05785486]\n",
      " [ -3.01920088  -0.39872693  12.2410318 ]\n",
      " [  7.10550824  -0.0343541  -20.11813838]]\n",
      "Data type:\tfloat64\n",
      "Array shape:\t(3, 3)\n",
      "\n",
      "\"A x A_inverse = Identity\" should be true:\n",
      "Array:\n",
      "[[1.00000000e+00 3.46944695e-17 3.55271368e-15]\n",
      " [0.00000000e+00 1.00000000e+00 0.00000000e+00]\n",
      " [2.22044605e-16 1.64798730e-17 1.00000000e+00]]\n",
      "Data type:\tfloat64\n",
      "Array shape:\t(3, 3)\n",
      "\n"
     ]
    }
   ],
   "source": [
    "A = np.random.random((3,3))\n",
    "print('Array \"A\":')\n",
    "array_info(A)\n",
    "A_inverse = np.linalg.inv(A)\n",
    "print('Inverse of \"A\" (\"A_inverse\"):')\n",
    "array_info(A_inverse)\n",
    "\n",
    "print('\"A x A_inverse = Identity\" should be true:')\n",
    "A_X_A_inverse = np.matmul(A, A_inverse)  # A x A_inverse = I = Identity matrix\n",
    "array_info(A_X_A_inverse)"
   ]
  },
  {
   "cell_type": "markdown",
   "metadata": {},
   "source": [
    "### <font style=\"color:rgb(8,133,37)\">6.4. Dot Product</font>"
   ]
  },
  {
   "cell_type": "code",
   "execution_count": 88,
   "metadata": {},
   "outputs": [
    {
     "name": "stdout",
     "output_type": "stream",
     "text": [
      "Array:\n",
      "70\n",
      "Data type:\tint32\n",
      "Array shape:\t()\n",
      "\n"
     ]
    }
   ],
   "source": [
    "a = np.array([1, 2, 3, 4])\n",
    "b = np.array([5, 6, 7, 8])\n",
    "\n",
    "dot_pro = np.dot(a, b)  # It will be a scalar, so its shape will be empty\n",
    "array_info(dot_pro)"
   ]
  },
  {
   "cell_type": "markdown",
   "metadata": {},
   "source": [
    "## <font color='blue'>7. Array statistics</font>"
   ]
  },
  {
   "cell_type": "markdown",
   "metadata": {},
   "source": [
    "### <font style=\"color:rgb(8,133,37)\">7.1. Sum</font>"
   ]
  },
  {
   "cell_type": "code",
   "execution_count": 89,
   "metadata": {},
   "outputs": [
    {
     "name": "stdout",
     "output_type": "stream",
     "text": [
      "15\n"
     ]
    }
   ],
   "source": [
    "a = np.array([1, 2, 3, 4, 5])\n",
    "\n",
    "print(a.sum())"
   ]
  },
  {
   "cell_type": "markdown",
   "metadata": {},
   "source": [
    "### <font style=\"color:rgb(8,133,37)\">7.2. Sum along Axis</font>"
   ]
  },
  {
   "cell_type": "code",
   "execution_count": 90,
   "metadata": {},
   "outputs": [
    {
     "name": "stdout",
     "output_type": "stream",
     "text": [
      "[[1 2 3]\n",
      " [4 5 6]]\n",
      "\n",
      "sum along 0th axis =  [5 7 9]\n",
      "\n",
      "sum along 1st axis =  [ 6 15]\n"
     ]
    }
   ],
   "source": [
    "a = np.array([[1, 2, 3], [4, 5, 6]])\n",
    "print(a)\n",
    "print('')\n",
    "\n",
    "print('sum along 0th axis = ',a.sum(axis = 0)) # sum along 0th axis ie: 1+4, 2+5, 3+6\n",
    "print(\"\")\n",
    "print('sum along 1st axis = ',a.sum(axis = 1)) # sum along 1st axis ie: 1+2+3, 4+5+6"
   ]
  },
  {
   "cell_type": "markdown",
   "metadata": {},
   "source": [
    "### <font style=\"color:rgb(8,133,37)\">7.3. Minimum and Maximum</font>"
   ]
  },
  {
   "cell_type": "code",
   "execution_count": 91,
   "metadata": {},
   "outputs": [
    {
     "name": "stdout",
     "output_type": "stream",
     "text": [
      "Minimum =  -1.1\n",
      "Maximum =  100.0\n"
     ]
    }
   ],
   "source": [
    "a = np.array([-1.1, 2, 5, 100])\n",
    "\n",
    "print('Minimum = ', a.min())\n",
    "print('Maximum = ', a.max())"
   ]
  },
  {
   "cell_type": "markdown",
   "metadata": {},
   "source": [
    "### <font style=\"color:rgb(8,133,37)\">7.4. Min and Max along Axis</font>"
   ]
  },
  {
   "cell_type": "code",
   "execution_count": 92,
   "metadata": {},
   "outputs": [
    {
     "name": "stdout",
     "output_type": "stream",
     "text": [
      "a =\n",
      " [[-2  0  2]\n",
      " [ 1  2  3]] \n",
      "\n",
      "Minimum =  -2\n",
      "Maximum =  3\n",
      "\n",
      "Minimum along axis 0 =  [-2  0  2]\n",
      "Maximum along axis 0 =  [1 2 3]\n",
      "\n",
      "Minimum along axis 1 =  [-2  1]\n",
      "Maximum along axis 1 =  [2 3]\n"
     ]
    }
   ],
   "source": [
    "a = np.array([[-2, 0, 2], [1, 2, 3]])\n",
    "\n",
    "print('a =\\n',a,'\\n')\n",
    "print('Minimum = ', a.min())\n",
    "print('Maximum = ', a.max())\n",
    "print()\n",
    "print('Minimum along axis 0 = ', a.min(0))\n",
    "print('Maximum along axis 0 = ', a.max(0))\n",
    "print()\n",
    "print('Minimum along axis 1 = ', a.min(1))\n",
    "print('Maximum along axis 1 = ', a.max(1))"
   ]
  },
  {
   "cell_type": "markdown",
   "metadata": {},
   "source": [
    "### <font style=\"color:rgb(8,133,37)\">7.5. Mean and Standard Deviation</font>"
   ]
  },
  {
   "cell_type": "code",
   "execution_count": 93,
   "metadata": {},
   "outputs": [
    {
     "name": "stdout",
     "output_type": "stream",
     "text": [
      "mean of the array =  -0.001428571428571414\n",
      "standard deviation of the array =  1.1142252730860458\n"
     ]
    }
   ],
   "source": [
    "a = np.array([-1, 0, -0.4, 1.2, 1.43, -1.9, 0.66])\n",
    "\n",
    "print('mean of the array = ',a.mean())\n",
    "print('standard deviation of the array = ',a.std())"
   ]
  },
  {
   "cell_type": "markdown",
   "metadata": {},
   "source": [
    "### <font style=\"color:rgb(8,133,37)\">7.6. Standardizing the Array</font>\n",
    "\n",
    "Make distribution of array elements such that`mean=0` and `std=1`."
   ]
  },
  {
   "cell_type": "code",
   "execution_count": 94,
   "metadata": {},
   "outputs": [
    {
     "name": "stdout",
     "output_type": "stream",
     "text": [
      "mean of the array =  -0.001428571428571414\n",
      "standard deviation of the array =  1.1142252730860458\n",
      "\n",
      "Standardized Array =  [-8.96202458e-01  1.28212083e-03 -3.57711711e-01  1.07826362e+00\n",
      "  1.28468507e+00 -1.70393858e+00  5.93621943e-01]\n",
      "\n",
      "mean of the standardized array =  -3.172065784643304e-17\n",
      "standard deviation of the standardized  array =  1.0\n"
     ]
    }
   ],
   "source": [
    "a = np.array([-1, 0, -0.4, 1.2, 1.43, -1.9, 0.66])\n",
    "\n",
    "print('mean of the array = ',a.mean())\n",
    "print('standard deviation of the array = ',a.std())\n",
    "print()\n",
    "\n",
    "standardized_a = (a - a.mean())/a.std()\n",
    "print('Standardized Array = ', standardized_a)\n",
    "print()\n",
    "\n",
    "print('mean of the standardized array = ',standardized_a.mean()) # close to 0\n",
    "print('standard deviation of the standardized  array = ',standardized_a.std()) # equals to 1"
   ]
  },
  {
   "cell_type": "markdown",
   "metadata": {},
   "source": [
    "# <font color='blue'>References </font>\n",
    "\n",
    "https://numpy.org/devdocs/user/quickstart.html\n",
    "\n",
    "https://numpy.org/devdocs/user/basics.types.html\n",
    "\n",
    "https://docs.scipy.org/doc/numpy/reference/generated/numpy.ndarray.astype.html\n",
    "\n",
    "https://coolsymbol.com/emojis/emoji-for-copy-and-paste.html\n",
    "\n",
    "https://docs.scipy.org/doc/numpy-1.13.0/reference/routines.math.html\n",
    "\n",
    "https://docs.scipy.org/doc/numpy-1.13.0/reference/generated/numpy.exp.html#numpy.exp\n",
    "\n",
    "https://docs.scipy.org/doc/numpy/reference/generated/numpy.clip.html\n",
    "\n",
    "https://docs.scipy.org/doc/numpy/reference/generated/numpy.sqrt.html\n",
    "\n",
    "https://docs.scipy.org/doc/numpy/reference/generated/numpy.log.html\n",
    "\n",
    "https://docs.scipy.org/doc/numpy/reference/generated/numpy.power.html\n",
    "\n",
    "https://docs.scipy.org/doc/numpy/reference/generated/numpy.reshape.html\n",
    "\n",
    "https://docs.scipy.org/doc/numpy/reference/generated/numpy.expand_dims.html\n",
    "\n",
    "https://docs.scipy.org/doc/numpy/reference/generated/numpy.squeeze.html\n",
    "\n",
    "https://docs.scipy.org/doc/numpy/reference/generated/numpy.concatenate.html\n",
    "\n",
    "https://docs.scipy.org/doc/numpy/reference/generated/numpy.hstack.html#numpy.hstack\n",
    "\n",
    "https://docs.scipy.org/doc/numpy/reference/generated/numpy.vstack.html#numpy.vstack"
   ]
  },
  {
   "cell_type": "code",
   "execution_count": null,
   "metadata": {},
   "outputs": [],
   "source": []
  }
 ],
 "metadata": {
  "jupytext": {
   "encoding": "# -*- coding: utf-8 -*-",
   "formats": "ipynb,py:light"
  },
  "kernelspec": {
   "display_name": "Python 3 (ipykernel)",
   "language": "python",
   "name": "python3"
  },
  "language_info": {
   "codemirror_mode": {
    "name": "ipython",
    "version": 3
   },
   "file_extension": ".py",
   "mimetype": "text/x-python",
   "name": "python",
   "nbconvert_exporter": "python",
   "pygments_lexer": "ipython3",
   "version": "3.10.0"
  }
 },
 "nbformat": 4,
 "nbformat_minor": 4
}
