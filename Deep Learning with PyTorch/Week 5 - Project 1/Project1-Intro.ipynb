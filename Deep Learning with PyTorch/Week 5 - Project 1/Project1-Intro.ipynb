{
 "cells": [
  {
   "cell_type": "markdown",
   "metadata": {},
   "source": [
    "# <font style=\"color:blue\">Project 1: Implement a CNN-Based Image Classifier</font>\n",
    "\n",
    "Earlier, you trained CNNs on datasets of small images that were available inside torchvision. For example,  MNIST, FashionMNIST and CIFAR10 . Though a good starting point, with, these assignments lacked the complexity to tackle  real-world problems. Also, you were given most of the code and only had to add  small parts to  complete the assignment.\n",
    "\n",
    "In this project, you will write most of the code yourself ( just refer to all the course lessons and the code we have shared).\n",
    "\n",
    "\n",
    "### <font style=\"color:green\">Task </font>\n",
    "\n",
    "**Implement a `3-class` Image Classifier, using a CNN**, on a dataset, which consists of `1000` images each of **panda, cat and dog**. We took the  dataset from [Kaggle](https://www.kaggle.com/ashishsaxena2209/animal-image-datasetdog-cat-and-panda), ande split it into `80:20` ratio for `train:validation`. To download, [**click here**](https://www.dropbox.com/sh/n5nya3g3airlub6/AACi7vaUjdTA0t2j_iKWgp4Ra?dl=1).\n",
    "\n",
    "\n",
    "\n",
    "#### <font style = \"color:rgb(200,0,0)\">Build your own network. Do not use any pre-trained network/weights for this task.</font>\n",
    "\n",
    "### <font style=\"color:green\">The Purpose of This Project is Two-fold:</font>\n",
    "\n",
    "1. The first is to get your hands dirty. training a neural network from scratch. Only then will you you understand how to build and train a real network on real data. You will implement everything this time - right from getting the data to analysing the final results.\n",
    "\n",
    "\n",
    "2. The second is to reinforce the use of the complete training pipeline that we suggested in our previous lecture.Try to stick to this pipeline every time you work on a new problem.\n"
   ]
  },
  {
   "cell_type": "markdown",
   "metadata": {},
   "source": [
    "**Download these two notebooks:**\n",
    "\n",
    "<font style=\"color:blue\">1. Data_and_Pipeline_Check.ipynb [30 Points]</font> \n",
    "\n",
    "**This notebook is mostly for your own learning**. Also, we have provided some code that helps in data exploration as well as checking the code in your training pipeline, where you train a simple model on sample data. Check for these common sources of error:\n",
    "\n",
    "**This notebook is mostly for your own learning** and we have provided some code which goes over the first few steps of data exploration and checking the code in your training pipeline by training a simple model on a sample data. Common sources of errors which you should check are - \n",
    "\n",
    "- input and output shape for network, \n",
    "\n",
    "\n",
    "- incompatible shapes among subsequent layers,\n",
    "\n",
    "\n",
    "- loss function and optimizer related, \n",
    "\n",
    "\n",
    "- any image transforms, \n",
    "\n",
    "\n",
    "- plotting of curves\n",
    "\n",
    "<font style=\"color:blue\">2. Training_from_scratch.ipynb [70 Points]</font> \n",
    "\n",
    "**This notebook has to be completed by you.** You have to train a network on the full data. Experiment with different network parameters to **achieve `>85%` validation accuracy**. You may not get `85% `on your first attempt. To achieve that, experiment with:\n",
    "\n",
    "\n",
    "- Number of layers\n",
    "\n",
    "\n",
    "- Parameters inside the layers\n",
    "\n",
    "\n",
    "- Optimizers and learning rate schedulers [You can even get good results without a learning rate scheduler]\n",
    "\n",
    "\n",
    "- Regularization techniques like Data augmentation, Dropout, BatchNorm\n",
    "\n",
    "\n",
    "- Number of epochs\n",
    "    "
   ]
  },
  {
   "cell_type": "markdown",
   "metadata": {},
   "source": [
    "For GPU compute you can use Kaggle kernels, Google Colab or any other service of your choice.\n",
    "\n",
    "Upload the completed assignment and submit the 2 notebooks on the portal for for feedback.\n",
    "\n",
    "After you have completed the assignment, <font style=\"color:red\">upload and submit the 2 notebooks on the portal</font> so that we can check and provide feedback. **Make sure you have uploaded and submitted an executed notebook with proper loss and accuracy plot**. We can not give you feedback and further improvement suggestions without loss and accuracy plot. \n",
    "\n",
    "However, if you got stuck before training your model and did not have these plots, you can submit it as it is and ask for help. \n",
    "\n",
    "**Do not upload the model weight.**\n",
    "\n",
    "**<font style=\"color:red\">Note: Number of submissions allowed - six.</font>**"
   ]
  }
 ],
 "metadata": {
  "kernelspec": {
   "display_name": "Python 3 (ipykernel)",
   "language": "python",
   "name": "python3"
  },
  "language_info": {
   "codemirror_mode": {
    "name": "ipython",
    "version": 3
   },
   "file_extension": ".py",
   "mimetype": "text/x-python",
   "name": "python",
   "nbconvert_exporter": "python",
   "pygments_lexer": "ipython3",
   "version": "3.9.13"
  },
  "toc": {
   "base_numbering": 1,
   "nav_menu": {},
   "number_sections": true,
   "sideBar": true,
   "skip_h1_title": false,
   "title_cell": "Table of Contents",
   "title_sidebar": "Contents",
   "toc_cell": false,
   "toc_position": {},
   "toc_section_display": true,
   "toc_window_display": false
  },
  "varInspector": {
   "cols": {
    "lenName": 16,
    "lenType": 16,
    "lenVar": 40
   },
   "kernels_config": {
    "python": {
     "delete_cmd_postfix": "",
     "delete_cmd_prefix": "del ",
     "library": "var_list.py",
     "varRefreshCmd": "print(var_dic_list())"
    },
    "r": {
     "delete_cmd_postfix": ") ",
     "delete_cmd_prefix": "rm(",
     "library": "var_list.r",
     "varRefreshCmd": "cat(var_dic_list()) "
    }
   },
   "types_to_exclude": [
    "module",
    "function",
    "builtin_function_or_method",
    "instance",
    "_Feature"
   ],
   "window_display": false
  }
 },
 "nbformat": 4,
 "nbformat_minor": 2
}
