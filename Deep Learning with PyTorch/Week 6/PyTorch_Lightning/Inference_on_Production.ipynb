{
 "cells": [
  {
   "cell_type": "markdown",
   "metadata": {
    "id": "rD2rpKceMM0z",
    "toc": true
   },
   "source": [
    "<h1>Inference on Production<span class=\"tocSkip\"></span></h1>\n",
    "<div class=\"toc\"><ul class=\"toc-item\"><li><span><a href=\"#Lightning-Module\" data-toc-modified-id=\"Lightning-Module-1\"><span class=\"toc-item-num\">1&nbsp;&nbsp;</span>Lightning Module</a></span></li><li><span><a href=\"#Get-the-Checkpoint\" data-toc-modified-id=\"Get-the-Checkpoint-2\"><span class=\"toc-item-num\">2&nbsp;&nbsp;</span>Get the Checkpoint</a></span></li><li><span><a href=\"#Convert-to-ONNX-Format\" data-toc-modified-id=\"Convert-to-ONNX-Format-3\"><span class=\"toc-item-num\">3&nbsp;&nbsp;</span>Convert to ONNX Format</a></span></li><li><span><a href=\"#Sample-Inference\" data-toc-modified-id=\"Sample-Inference-4\"><span class=\"toc-item-num\">4&nbsp;&nbsp;</span>Sample Inference</a></span></li><li><span><a href=\"#References\" data-toc-modified-id=\"References-5\"><span class=\"toc-item-num\">5&nbsp;&nbsp;</span>References</a></span></li></ul></div>"
   ]
  },
  {
   "cell_type": "markdown",
   "metadata": {
    "id": "qIHzzFQoMM00"
   },
   "source": [
    "1. Assume your team is working on a project where you need to work on some ML problems.\n",
    "2. What if you pick one issue and solve it with the help of the PyTorch framework while your colleague does the same, using Tensorflow.\n",
    "3. Both problems we know are part of a bigger project. Now, how to arrive at a common format to share the ML models.\n",
    "\n",
    "\n",
    "<a target=\"_blank\" href=\"https://onnx.ai/\">ONNX: Open Neural Network Exchange</a> is one such open format that allows model interchange between various <a target=\"_blank\" href=\"https://onnx.ai/supported-tools\">ML frameworks and tools</a>.\n",
    "\n",
    "\n",
    "**In this notebook, we will see how to convert a PyTorch Lightning saved checkpoint to the ONNX model.  Let's take the example of the checkpoint saved by the notebook on MNIST training.**"
   ]
  },
  {
   "cell_type": "code",
   "execution_count": 1,
   "metadata": {},
   "outputs": [],
   "source": [
    "# !pip install onnxruntime onnx -q"
   ]
  },
  {
   "cell_type": "code",
   "execution_count": 8,
   "metadata": {
    "id": "AGnsJmC6MM01"
   },
   "outputs": [],
   "source": [
    "import pytorch_lightning as pl\n",
    "from torchmetrics import Accuracy\n",
    "from torchmetrics import MeanMetric\n",
    "\n",
    "import torch\n",
    "import torch.nn as nn\n",
    "import torch.optim as optim\n",
    "import torch.nn.functional as F\n",
    "\n",
    "from torchvision import datasets, transforms\n",
    "import numpy as np\n",
    "import matplotlib.pyplot as plt\n",
    "\n",
    "import warnings\n",
    "warnings.filterwarnings(\"ignore\", category=UserWarning)  # filter UserWarning"
   ]
  },
  {
   "cell_type": "markdown",
   "metadata": {
    "id": "kS3O4IKUMM01"
   },
   "source": [
    "## Lightning Module\n",
    "\n",
    "The Lighting module gives us the model definition to load a model from checkpoints."
   ]
  },
  {
   "cell_type": "code",
   "execution_count": 2,
   "metadata": {
    "id": "Cevo_53HMM01"
   },
   "outputs": [],
   "source": [
    "class LeNet5(pl.LightningModule):  # here nn.Module is replaced by LightningModule\n",
    "    def __init__(self, learning_rate=0.01, num_classes=10):\n",
    "        super().__init__()\n",
    "\n",
    "        # Save the arguments as hyperparameters.\n",
    "        self.save_hyperparameters()\n",
    "        self.num_classes = num_classes\n",
    "\n",
    "        # convolution layers\n",
    "        self._body = nn.Sequential(\n",
    "            # First convolution Layer\n",
    "            # input size = (32, 32), output size = (28, 28)\n",
    "            nn.Conv2d(in_channels=1, out_channels=6, kernel_size=5),\n",
    "            # ReLU activation\n",
    "            nn.ReLU(inplace=True),\n",
    "            # Max pool 2-d\n",
    "            nn.MaxPool2d(kernel_size=2),\n",
    "\n",
    "            # Second convolution layer\n",
    "            # input size = (14, 14), output size = (10, 10)\n",
    "            nn.Conv2d(in_channels=6, out_channels=16, kernel_size=5),\n",
    "            nn.ReLU(inplace=True),\n",
    "            nn.MaxPool2d(kernel_size=2),\n",
    "            # output size = (5, 5)\n",
    "        )\n",
    "\n",
    "        # Fully connected layers\n",
    "        self._head = nn.Sequential(\n",
    "            # First fully connected layer\n",
    "            # in_features = total number of weights in last conv layer = 16 * 5 * 5\n",
    "            nn.Linear(in_features=16 * 5 * 5, out_features=120),\n",
    "\n",
    "            # ReLU activation\n",
    "            nn.ReLU(inplace=True),\n",
    "\n",
    "            # second fully connected layer\n",
    "            # in_features = output of last linear layer = 120\n",
    "            nn.Linear(in_features=120, out_features=84),\n",
    "\n",
    "            # ReLU activation\n",
    "            nn.ReLU(inplace=True),\n",
    "\n",
    "            # Third fully connected layer. It is also the output layer\n",
    "            # in_features = output of last linear layer = 84\n",
    "            # and out_features = number of classes = 10 (MNIST data 0-9)\n",
    "            nn.Linear(in_features=84, out_features=self.num_classes))\n",
    "\n",
    "\n",
    "    def forward(self, x):\n",
    "        # apply feature extractor\n",
    "        x = self._body(x)\n",
    "        # flatten the output of conv layers\n",
    "        # dimension should be batch_size * number_of weights_in_last conv_layer\n",
    "        x = x.view(x.size()[0], -1)\n",
    "        # apply classification head\n",
    "        x = self._head(x)\n",
    "        return x"
   ]
  },
  {
   "cell_type": "markdown",
   "metadata": {
    "id": "-OrabAEyMM02"
   },
   "source": [
    "## Get the Checkpoint\n",
    "\n",
    "We are going to load one of the checkpoints saved during the last training.\n",
    "\n",
    "We have written a helper function for it. It takes the log directory of PyTorch Lighting training and runs the version number to return the corresponding `.ckpt` path.\n",
    "\n",
    "You’ll be familiar with  this function from the last unit."
   ]
  },
  {
   "cell_type": "code",
   "execution_count": 3,
   "metadata": {
    "id": "Ht9ZQKynMM02"
   },
   "outputs": [],
   "source": [
    "import os\n",
    "\n",
    "def get_latest_run_version_ckpt_epoch_no(lightning_logs_dir='lightning_logs', run_version=None):\n",
    "    if run_version is None:\n",
    "        run_version = 0\n",
    "        for dir_name in os.listdir(lightning_logs_dir):\n",
    "            if 'version' in dir_name:\n",
    "                if int(dir_name.split('_')[1]) > run_version:\n",
    "                    run_version = int(dir_name.split('_')[1])\n",
    "\n",
    "    checkpoints_dir = os.path.join(lightning_logs_dir, 'version_{}'.format(run_version), 'checkpoints')\n",
    "\n",
    "    files = os.listdir(checkpoints_dir)\n",
    "    ckpt_filename = None\n",
    "    for file in files:\n",
    "        if file.endswith('.ckpt'):\n",
    "            ckpt_filename = file\n",
    "\n",
    "    if ckpt_filename is not None:\n",
    "        ckpt_path = os.path.join(checkpoints_dir, ckpt_filename)\n",
    "    else:\n",
    "        print('CKPT file is not present')\n",
    "\n",
    "    return ckpt_path"
   ]
  },
  {
   "cell_type": "markdown",
   "metadata": {
    "id": "ba_V0txyMM03"
   },
   "source": [
    "**Let us get the `.ckpt` model path.**"
   ]
  },
  {
   "cell_type": "code",
   "execution_count": 4,
   "metadata": {
    "id": "9m2E3eszMM03",
    "outputId": "7d8c46c5-b373-440e-ff8e-13fb18251178"
   },
   "outputs": [
    {
     "name": "stdout",
     "output_type": "stream",
     "text": [
      "ckpt_path: lightning_logs/version_0/checkpoints/ckpt_009.ckpt\n"
     ]
    }
   ],
   "source": [
    "# get checkpoint path\n",
    "ckpt_path = get_latest_run_version_ckpt_epoch_no(run_version=0)\n",
    "print('ckpt_path: {}'.format(ckpt_path))"
   ]
  },
  {
   "cell_type": "markdown",
   "metadata": {
    "id": "HTUKqHM8MM03"
   },
   "source": [
    "## Convert to ONNX Format\n",
    "\n",
    "We have written a function to convert `.ckpt` model to `.onnx` model.\n",
    "\n",
    "The function takes the model definition, `.ckpt` path, and the `.onnx` file path as arguments. And convert the `.ckpt` file to `.onnx` and return the `.onnx` path.\n",
    "\n",
    "We find an `input_sample` being  used with `.ckpt` to `.onnx` conversion method `to_onnx`. This sample input fixes the input size, binding us to use the same  at the time of inference.\n",
    "\n",
    "Get details <a target=\"_blank\" href=\"https://pytorch-lightning.readthedocs.io/en/stable/common/production_inference.html\">here</a>."
   ]
  },
  {
   "cell_type": "code",
   "execution_count": 5,
   "metadata": {
    "id": "Oab1XtAkMM04"
   },
   "outputs": [],
   "source": [
    "import onnxruntime\n",
    "\n",
    "def convert_to_onnx_model(model, ckpt_path, onnx_path=None):\n",
    "\n",
    "    # ONNX filename\n",
    "    if onnx_path is None:\n",
    "        onnx_path = ckpt_path[:-4] + 'onnx'\n",
    "\n",
    "    # Load the checkpoint\n",
    "    ckpt_model = LeNet5.load_from_checkpoint(ckpt_path)\n",
    "\n",
    "    # Freeze the network\n",
    "    ckpt_model.freeze()\n",
    "\n",
    "    ckpt_model.eval()\n",
    "\n",
    "    # Add a sample input. Here input shape = (batch_size, num_channel, height, width)\n",
    "    input_sample = torch.randn((1, 1, 32, 32))\n",
    "\n",
    "    # convert to ONNX model\n",
    "    ckpt_model.to_onnx(onnx_path, input_sample, export_params=True)\n",
    "\n",
    "    return onnx_path"
   ]
  },
  {
   "cell_type": "markdown",
   "metadata": {
    "id": "3JsroSJHMM04"
   },
   "source": [
    "**Let us convert `.ckpt` to `.onnx`.**"
   ]
  },
  {
   "cell_type": "code",
   "execution_count": 6,
   "metadata": {
    "id": "njSGlCUzMM04",
    "outputId": "34a57e5c-b1cc-4a9f-a854-679d396f9ec2"
   },
   "outputs": [
    {
     "name": "stdout",
     "output_type": "stream",
     "text": [
      "onnx_model_path: lightning_logs/version_0/checkpoints/ckpt_009.onnx\n"
     ]
    }
   ],
   "source": [
    "# initiate the model\n",
    "model = LeNet5()\n",
    "\n",
    "# convert the checkpoint to onnx format\n",
    "onnx_model_path = convert_to_onnx_model(model, ckpt_path)\n",
    "print('onnx_model_path: {}'.format(onnx_model_path))"
   ]
  },
  {
   "cell_type": "markdown",
   "metadata": {
    "id": "AQc8fj83MM04"
   },
   "source": [
    "## Sample Inference\n",
    "\n",
    "**Steps for the inference with `.onnx` model:**\n",
    "\n",
    "- Init the session. This is a one-time operation.\n",
    "\n",
    "\n",
    "- Get the input name from the session. Again, one-time operation.\n",
    "\n",
    "\n",
    "- Prepare input.\n",
    "\n",
    "\n",
    "- Run the session with the input."
   ]
  },
  {
   "cell_type": "code",
   "execution_count": 7,
   "metadata": {},
   "outputs": [],
   "source": [
    "# Load the MNIST dataset and preprocess it (resize and normalize)\n",
    "transform = transforms.Compose([\n",
    "    transforms.Resize((32, 32)),  # Resize to 32x32 as required by LeNet5\n",
    "    transforms.ToTensor(),        # Convert to tensor\n",
    "    transforms.Normalize((0.5,), (0.5,))  # Normalize to range [-1, 1]\n",
    "])\n",
    "\n",
    "# Download and load the MNIST dataset\n",
    "mnist_data = datasets.MNIST(root='./data', train=False, download=True, transform=transform)"
   ]
  },
  {
   "cell_type": "code",
   "execution_count": 15,
   "metadata": {
    "id": "rD4A0rFcMM04",
    "outputId": "0033ca7e-a951-4b15-80c7-adee109f7338"
   },
   "outputs": [
    {
     "data": {
      "image/png": "[encoded data removed]",
      "text/plain": [
       "<Figure size 640x480 with 1 Axes>"
      ]
     },
     "metadata": {},
     "output_type": "display_data"
    }
   ],
   "source": [
    "# Get a single image and label from MNIST\n",
    "mnist_image, mnist_label = mnist_data[0]  # Take the first image and its true label\n",
    "\n",
    "# The model expects a batch, so unsqueeze to add the batch dimension\n",
    "mnist_image = mnist_image.unsqueeze(0)  # Shape: [1, 1, 32, 32]\n",
    "\n",
    "# Convert the image to a NumPy array as expected by ONNX Runtime\n",
    "mnist_image_np = mnist_image.numpy().astype(np.float32)\n",
    "\n",
    "# Load the ONNX model and set up an inference session\n",
    "sess = onnxruntime.InferenceSession(onnx_model_path)\n",
    "\n",
    "# Get input name for the model\n",
    "input_name = sess.get_inputs()[0].name\n",
    "\n",
    "# Prepare inputs\n",
    "inputs = {input_name: mnist_image_np}\n",
    "\n",
    "# Perform inference with ONNX model\n",
    "outputs = sess.run(None, inputs)\n",
    "\n",
    "# The model output is a list of class logits. Get the predicted class by finding the index of the maximum logit.\n",
    "predicted_class = np.argmax(outputs[0], axis=1)\n",
    "\n",
    "# Plot the image with predicted and ground truth labels as title\n",
    "plt.imshow(mnist_image.squeeze(), cmap='gray')\n",
    "plt.title(f\"GT: {mnist_label} ; Pred: {predicted_class[0]}\")\n",
    "plt.axis('off')\n",
    "plt.show()"
   ]
  },
  {
   "cell_type": "markdown",
   "metadata": {
    "id": "dI4dFo8kMM04"
   },
   "source": [
    "## References\n",
    "\n",
    "\n",
    "1. <a target=\"_blank\" href=\"https://pytorch-lightning.readthedocs.io/en/stable/common/production_inference.html\">https://pytorch-lightning.readthedocs.io/en/stable/common/production_inference.html</a>\n",
    "2. <a target=\"_blank\" href=\"https://docs.microsoft.com/en-us/windows/ai/windows-ml/get-onnx-model\">https://docs.microsoft.com/en-us/windows/ai/windows-ml/get-onnx-model</a>\n",
    "3. <a target=\"_blank\" href=\"https://onnx.ai/\">https://onnx.ai/</a>\n"
   ]
  },
  {
   "cell_type": "code",
   "execution_count": null,
   "metadata": {},
   "outputs": [],
   "source": []
  }
 ],
 "metadata": {
  "colab": {
   "provenance": []
  },
  "kernelspec": {
   "display_name": "Python 3 (ipykernel)",
   "language": "python",
   "name": "python3"
  },
  "language_info": {
   "codemirror_mode": {
    "name": "ipython",
    "version": 3
   },
   "file_extension": ".py",
   "mimetype": "text/x-python",
   "name": "python",
   "nbconvert_exporter": "python",
   "pygments_lexer": "ipython3",
   "version": "3.10.14"
  },
  "latex_envs": {
   "LaTeX_envs_menu_present": true,
   "autoclose": false,
   "autocomplete": true,
   "bibliofile": "biblio.bib",
   "cite_by": "apalike",
   "current_citInitial": 1,
   "eqLabelWithNumbers": true,
   "eqNumInitial": 1,
   "hotkeys": {
    "equation": "Ctrl-E",
    "itemize": "Ctrl-I"
   },
   "labels_anchors": false,
   "latex_user_defs": false,
   "report_style_numbering": false,
   "user_envs_cfg": false
  },
  "toc": {
   "base_numbering": 1,
   "nav_menu": {},
   "number_sections": true,
   "sideBar": true,
   "skip_h1_title": true,
   "title_cell": "Inference on Production",
   "title_sidebar": "Contents",
   "toc_cell": true,
   "toc_position": {},
   "toc_section_display": true,
   "toc_window_display": false
  },
  "varInspector": {
   "cols": {
    "lenName": 16,
    "lenType": 16,
    "lenVar": 40
   },
   "kernels_config": {
    "python": {
     "delete_cmd_postfix": "",
     "delete_cmd_prefix": "del ",
     "library": "var_list.py",
     "varRefreshCmd": "print(var_dic_list())"
    },
    "r": {
     "delete_cmd_postfix": ") ",
     "delete_cmd_prefix": "rm(",
     "library": "var_list.r",
     "varRefreshCmd": "cat(var_dic_list()) "
    }
   },
   "types_to_exclude": [
    "module",
    "function",
    "builtin_function_or_method",
    "instance",
    "_Feature"
   ],
   "window_display": false
  }
 },
 "nbformat": 4,
 "nbformat_minor": 4
}
