{
 "cells": [
  {
   "cell_type": "markdown",
   "metadata": {},
   "source": [
    "# <font style=\"color:blue\">TensorBoard Dashboard</font>\n",
    "Let us get started with using Tensorboard. Since there are a lot of features provided by Tensorboard, we will first see how to display the Tensorboard dashboard and discuss the process of logging in the next section.\n",
    "\n",
    "In this section, we will see \n",
    "\n",
    "1. How to display the TensorBoard dashboard using a notebook and \n",
    "1. Run TensorBoard in a web browser\n",
    "\n",
    "Make sure you have TensorBoard installed. In your python or conda environment run the following command:\n",
    "\n",
    "```\n",
    "tensorboard --version\n",
    "```\n",
    "\n",
    "**If not installed, here are links to install TensorBoard in [python-environment](https://pypi.org/project/tensorboard/) and [conda-environment](https://anaconda.org/conda-forge/tensorboard).**"
   ]
  },
  {
   "cell_type": "markdown",
   "metadata": {},
   "source": [
    "# <font style=\"color:blue\">Tensorboard Logs</font>\n",
    "To display TensorBoard Dashboard, we need logs compatible with TensorBoard. To make it a bit easier to follow, we are sharing a folder which contains the logs of an experiment we had done. We will go over the contents of the log folder and see how to use this for displaying them on Tensorboard. \n",
    "\n",
    "Let us first download and extract the logs folder."
   ]
  },
  {
   "cell_type": "code",
   "execution_count": 1,
   "metadata": {
    "collapsed": false,
    "jupyter": {
     "outputs_hidden": false
    }
   },
   "outputs": [],
   "source": [
    "# !wget \"https://www.dropbox.com/sh/miycgl63t70t8gx/AAA8xGsR4WjHRuKVdFKR4c1la?dl=1\" -O sample_logs.zip\n",
    "\n",
    "# !unzip -q sample_logs.zip"
   ]
  },
  {
   "cell_type": "markdown",
   "metadata": {},
   "source": [
    "## <font style=\"color:green\">What is there in the Logs? </font>\n",
    "Let us examine the folder structure and the files/folders that are present in the logs directory. We will assume that the logs directory is `logs_fashion_mnist`. We don't need to go into too much detail with respect to the logs directory. But we will briefly understand the folder structure of the logs. "
   ]
  },
  {
   "cell_type": "code",
   "execution_count": 2,
   "metadata": {
    "collapsed": false,
    "jupyter": {
     "outputs_hidden": false
    }
   },
   "outputs": [
    {
     "data": {
      "text/plain": [
       "<generator object _walk at 0x000001EEA926E110>"
      ]
     },
     "execution_count": 2,
     "metadata": {},
     "output_type": "execute_result"
    }
   ],
   "source": [
    "import os\n",
    "os.walk('./logs_fashion_mnist')"
   ]
  },
  {
   "cell_type": "markdown",
   "metadata": {},
   "source": [
    "**We had done two experiments for `no_regularization` & `regularization`. So, the logs folder has 2 folders. Let us see the logs of one experiment.**"
   ]
  },
  {
   "cell_type": "code",
   "execution_count": 3,
   "metadata": {
    "collapsed": false,
    "jupyter": {
     "outputs_hidden": false
    }
   },
   "outputs": [
    {
     "name": "stdout",
     "output_type": "stream",
     "text": [
      "Folder PATH listing for volume New Volume\n",
      "Volume serial number is EC8A-323F\n",
      "D:\\GITHUB\\OPENCV-TRAINING\\DEEP LEARNING WITH PYTORCH\\WEEK 6\\TENSORBOARD-NBS\\LOGS_FASHION_MNIST\\REGULARIZATION\n",
      "+---00000\n",
      "¦   +---default\n",
      "+---Accuracy_train-val_train\n",
      "+---Accuracy_train-val_validation\n",
      "+---Loss_train-val_train\n",
      "+---Loss_train-val_validation\n"
     ]
    }
   ],
   "source": [
    "!tree logs_fashion_mnist/regularization"
   ]
  },
  {
   "cell_type": "markdown",
   "metadata": {},
   "source": [
    "The above folder is created when you save any metrics to the tensorboard summarywriter. \n",
    "\n",
    "The above shows the structure of the tensorboard logs. The logs are saved as tfevents data files ( e.g. events.out.tfevents.1582146148.pc.18717.0 ) and are also called summary data."
   ]
  },
  {
   "cell_type": "markdown",
   "metadata": {},
   "source": [
    "## <font style=\"color:blue\">1. TensorBoard Dashboard in the Notebook</font>\n",
    "\n",
    "Run the following command in a notebook cell:\n",
    "\n",
    "```\n",
    "# This will launch Tensorboard\n",
    "%load_ext tensorboard\n",
    "\n",
    "# logs folder path\n",
    "%tensorboard --logdir=logs_fashion_mnist    \n",
    "```\n",
    "\n",
    "**You will get an output which will be similar to the following:**\n",
    "\n",
    "<img src=\"https://www.learnopencv.com/wp-content/uploads/2020/02/c3_w5_tensorboard_notepad.png\" width=900>\n",
    "\n"
   ]
  },
  {
   "cell_type": "code",
   "execution_count": 7,
   "metadata": {},
   "outputs": [
    {
     "name": "stdout",
     "output_type": "stream",
     "text": [
      "The tensorboard extension is already loaded. To reload it, use:\n",
      "  %reload_ext tensorboard\n"
     ]
    }
   ],
   "source": [
    "%load_ext tensorboard"
   ]
  },
  {
   "cell_type": "code",
   "execution_count": null,
   "metadata": {},
   "outputs": [],
   "source": []
  },
  {
   "cell_type": "code",
   "execution_count": 6,
   "metadata": {},
   "outputs": [
    {
     "data": {
      "text/html": [
       "\n",
       "      <iframe id=\"tensorboard-frame-9f99fb5639b013fb\" width=\"100%\" height=\"800\" frameborder=\"0\">\n",
       "      </iframe>\n",
       "      <script>\n",
       "        (function() {\n",
       "          const frame = document.getElementById(\"tensorboard-frame-9f99fb5639b013fb\");\n",
       "          const url = new URL(\"/\", window.location);\n",
       "          const port = 6006;\n",
       "          if (port) {\n",
       "            url.port = port;\n",
       "          }\n",
       "          frame.src = url;\n",
       "        })();\n",
       "      </script>\n",
       "    "
      ],
      "text/plain": [
       "<IPython.core.display.HTML object>"
      ]
     },
     "metadata": {},
     "output_type": "display_data"
    }
   ],
   "source": [
    "%tensorboard --logdir=logs_fashion_mnist --port=6006"
   ]
  },
  {
   "cell_type": "markdown",
   "metadata": {},
   "source": [
    "**If you want to reload the Dashboard, use the command `%reload_ext tensorboard`**\n",
    "```    \n",
    "# To reload tensorBoard\n",
    "%reload_ext tensorboard\n",
    "\n",
    "# logs folder path\n",
    "%tensorboard --logdir=logs_fashion_mnist  \n",
    "```"
   ]
  },
  {
   "cell_type": "markdown",
   "metadata": {},
   "source": [
    "## <font style=\"color:blue\">2. TensorBoard Dashboard on Web Browser</font>\n",
    "\n",
    "We can Display Tensorboard on Web Browser using any of the following ways:\n",
    "\n",
    "1. Running it on the local system.\n",
    "\n",
    "2. Running it on a remote system.\n",
    "\n",
    "**Let's see how it is done**"
   ]
  },
  {
   "cell_type": "markdown",
   "metadata": {},
   "source": [
    "### <font style=\"color:green\">2.1. Running Tensorboard on the Local System</font>\n",
    "\n",
    "**Run the following command on the local system:**\n",
    "\n",
    "```\n",
    "tensorboard --logdir logs_fashion_mnist --port default\n",
    "```\n",
    "<font >You will get similiar output as shown below</font>\n",
    "\n",
    "\n",
    "```\n",
    "TensorFlow installation not found - running with reduced feature set.\n",
    "Serving TensorBoard on localhost; to expose to the network, use a proxy or pass --bind_all\n",
    "TensorBoard 2.0.1 at http://localhost:6006/ (Press CTRL+C to quit)\n",
    "```\n",
    "\n",
    "**Copy the link from the output (in this case it is `http://localhost:6006/`) and paste in your browser**\n",
    " \n",
    "\n",
    "**It will look similar to the following:**\n",
    "\n",
    "<img src=\"https://www.learnopencv.com/wp-content/uploads/2020/02/c3-w-4-tensorboard_local.png\" width=900>"
   ]
  },
  {
   "cell_type": "code",
   "execution_count": 19,
   "metadata": {},
   "outputs": [
    {
     "data": {
      "text/html": [
       "\n",
       "      <iframe id=\"tensorboard-frame-720949871410569c\" width=\"100%\" height=\"800\" frameborder=\"0\">\n",
       "      </iframe>\n",
       "      <script>\n",
       "        (function() {\n",
       "          const frame = document.getElementById(\"tensorboard-frame-720949871410569c\");\n",
       "          const url = new URL(\"/\", window.location);\n",
       "          const port = 6006;\n",
       "          if (port) {\n",
       "            url.port = port;\n",
       "          }\n",
       "          frame.src = url;\n",
       "        })();\n",
       "      </script>\n",
       "    "
      ],
      "text/plain": [
       "<IPython.core.display.HTML object>"
      ]
     },
     "metadata": {},
     "output_type": "display_data"
    }
   ],
   "source": [
    "%tensorboard --logdir logs_fashion_mnist --port default"
   ]
  },
  {
   "cell_type": "markdown",
   "metadata": {},
   "source": [
    "### <font style=\"color:green\">2.2. Running Tensorboard on a remote System</font>\n",
    "\n",
    "**Run the following command on the remote system:**\n",
    "\n",
    "\n",
    "```\n",
    "tensorboard --logdir logs_fashion_mnist --port default\n",
    "```\n",
    "\n",
    "**The Output will be similar to as shown below**\n",
    "\n",
    "```\n",
    "TensorFlow installation not found - running with reduced feature set.\n",
    "TensorBoard 1.15.0 at http://remote-ip-address:6006/ (Press CTRL+C to quit)\n",
    "```\n",
    "\n",
    "**Now the question is, can you open the above link in the browser?**\n",
    "\n",
    "No, because it is not in public domain. \n",
    "\n",
    "But you know the public IP and password of the remote machine (or your local machine ssh key might be already added to the remote machine). So by using shh port forwarding mechanism, a remote machine port can be tunneled to the local machine port. \n",
    "\n",
    "**We can use the following command to forward the remote port to the local machine port:**\n",
    "\n",
    "```\n",
    "ssh -N -f -L localhost:7006:remote-ip-address:6006 username@public_ip\n",
    "```\n",
    "\n",
    "The above command will forward `remote-ip-address:6006` to `localhost:7006`.\n",
    "\n",
    "**Open the link `localhost:7006` in a browser.**\n",
    "\n",
    "**It should look similar to the following:**\n",
    "\n",
    "<img src=\"https://www.learnopencv.com/wp-content/uploads/2020/02/c3-w3-tensorboard_remote.png\" width=900>"
   ]
  }
 ],
 "metadata": {
  "kernelspec": {
   "display_name": "Python 3 (ipykernel)",
   "language": "python",
   "name": "python3"
  },
  "language_info": {
   "codemirror_mode": {
    "name": "ipython",
    "version": 3
   },
   "file_extension": ".py",
   "mimetype": "text/x-python",
   "name": "python",
   "nbconvert_exporter": "python",
   "pygments_lexer": "ipython3",
   "version": "3.10.0"
  },
  "widgets": {
   "application/vnd.jupyter.widget-state+json": {
    "state": {},
    "version_major": 2,
    "version_minor": 0
   }
  }
 },
 "nbformat": 4,
 "nbformat_minor": 4
}
