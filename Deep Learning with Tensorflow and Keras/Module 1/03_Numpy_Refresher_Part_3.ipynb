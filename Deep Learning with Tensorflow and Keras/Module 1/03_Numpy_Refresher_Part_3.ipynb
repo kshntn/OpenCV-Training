{
 "cells": [
  {
   "cell_type": "markdown",
   "metadata": {
    "id": "ou2mMA50HvHE"
   },
   "source": [
    "<h1 style=\"font-size:30px;\">Numpy Refresher (Part-3)</h1>\n",
    "\n",
    "- Element Wise Operations\n",
    "- Linear Algebra\n",
    "- Array Statistics\n",
    "\n",
    "\n",
    "<img src='https://learnopencv.com/wp-content/uploads/2022/01/c4_01_NumPy_logo.png' width=200 align='left'><br/>"
   ]
  },
  {
   "cell_type": "code",
   "execution_count": 1,
   "metadata": {
    "id": "iei7FIbn35Sq"
   },
   "outputs": [],
   "source": [
    "import numpy as np\n",
    "\n",
    "def array_info(array):\n",
    "    print('Array:\\n{}'.format(array))\n",
    "    print('Data type:\\t{}'.format(array.dtype))\n",
    "    print('Array shape:\\t{}'.format(array.shape))\n",
    "    print('Array Dim:\\t{}\\n'.format(array.ndim))"
   ]
  },
  {
   "cell_type": "markdown",
   "metadata": {
    "id": "ib6ndOLfHvHp"
   },
   "source": [
    "## 1 Element-Wise Operations\n"
   ]
  },
  {
   "cell_type": "markdown",
   "metadata": {
    "id": "bEUU5DXSHvHp"
   },
   "source": [
    "Let's generate two random arrays to demonstrate element-wise operations. "
   ]
  },
  {
   "cell_type": "code",
   "execution_count": 2,
   "metadata": {
    "id": "Z_4_wwpkHvHq",
    "outputId": "5a6233d2-2689-48e4-c4b8-4d9ad880104f"
   },
   "outputs": [
    {
     "name": "stdout",
     "output_type": "stream",
     "text": [
      "Array:\n",
      "[[0.59000455 0.10495251 0.55007971 0.6634643 ]\n",
      " [0.00516332 0.9074339  0.57376291 0.30862948]\n",
      " [0.60270497 0.8801744  0.4460596  0.16934236]\n",
      " [0.31788964 0.7541939  0.23443211 0.23092295]]\n",
      "Data type:\tfloat64\n",
      "Array shape:\t(4, 4)\n",
      "Array Dim:\t2\n",
      "\n",
      "Array:\n",
      "[[0.19271715 0.04144996 0.55729259 0.70439969]\n",
      " [0.61198913 0.20241261 0.09905048 0.84313058]\n",
      " [0.62974494 0.41398208 0.25663903 0.50028052]\n",
      " [0.56171641 0.98966393 0.8323056  0.59274444]]\n",
      "Data type:\tfloat64\n",
      "Array shape:\t(4, 4)\n",
      "Array Dim:\t2\n",
      "\n"
     ]
    }
   ],
   "source": [
    "a = np.random.random((4,4))\n",
    "b = np.random.random((4,4))\n",
    "array_info(a)\n",
    "array_info(b)"
   ]
  },
  {
   "cell_type": "markdown",
   "metadata": {
    "id": "TR3faxSTHvHq"
   },
   "source": [
    "### 1.1 Element-Wise Scalar Operations"
   ]
  },
  {
   "cell_type": "markdown",
   "metadata": {
    "id": "HCaBZ88vHvHq"
   },
   "source": [
    "### <font style=\"color:rgb(50,120,230)\">Scalar Addition</font>"
   ]
  },
  {
   "cell_type": "code",
   "execution_count": 3,
   "metadata": {
    "id": "PkG8aNxzHvHq",
    "outputId": "3c8ca936-eac8-4adb-9ffa-d1a8e6222262"
   },
   "outputs": [
    {
     "data": {
      "text/plain": [
       "array([[5.59000455, 5.10495251, 5.55007971, 5.6634643 ],\n",
       "       [5.00516332, 5.9074339 , 5.57376291, 5.30862948],\n",
       "       [5.60270497, 5.8801744 , 5.4460596 , 5.16934236],\n",
       "       [5.31788964, 5.7541939 , 5.23443211, 5.23092295]])"
      ]
     },
     "execution_count": 3,
     "metadata": {},
     "output_type": "execute_result"
    }
   ],
   "source": [
    "a + 5 # Element wise scalar addition."
   ]
  },
  {
   "cell_type": "markdown",
   "metadata": {
    "id": "YZi1QRPhHvHr"
   },
   "source": [
    "### <font style=\"color:rgb(50,120,230)\">Scalar Subtraction</font>"
   ]
  },
  {
   "cell_type": "code",
   "execution_count": 5,
   "metadata": {
    "id": "yu61UKprHvHr",
    "outputId": "78fd8c5a-8e4e-43a1-8b02-d3affc4a7cf6"
   },
   "outputs": [
    {
     "data": {
      "text/plain": [
       "array([[-4.40999545, -4.89504749, -4.44992029, -4.3365357 ],\n",
       "       [-4.99483668, -4.0925661 , -4.42623709, -4.69137052],\n",
       "       [-4.39729503, -4.1198256 , -4.5539404 , -4.83065764],\n",
       "       [-4.68211036, -4.2458061 , -4.76556789, -4.76907705]])"
      ]
     },
     "execution_count": 5,
     "metadata": {},
     "output_type": "execute_result"
    }
   ],
   "source": [
    "a - 5 # Element wise scalar subtraction."
   ]
  },
  {
   "cell_type": "markdown",
   "metadata": {
    "id": "nq5YTQouHvHr"
   },
   "source": [
    "### <font style=\"color:rgb(50,120,230)\">Scalar Multiplication</font>"
   ]
  },
  {
   "cell_type": "code",
   "execution_count": 6,
   "metadata": {
    "id": "B5BkSNZuHvHv",
    "outputId": "b5fba9e3-fd5a-4742-8aad-68e8eb6291ff"
   },
   "outputs": [
    {
     "data": {
      "text/plain": [
       "array([[5.90004551, 1.04952513, 5.50079709, 6.63464299],\n",
       "       [0.05163317, 9.07433895, 5.73762914, 3.08629482],\n",
       "       [6.0270497 , 8.801744  , 4.46059605, 1.69342363],\n",
       "       [3.17889638, 7.54193901, 2.34432113, 2.30922947]])"
      ]
     },
     "execution_count": 6,
     "metadata": {},
     "output_type": "execute_result"
    }
   ],
   "source": [
    "a * 10 # Element wise scalar multiplication."
   ]
  },
  {
   "cell_type": "markdown",
   "metadata": {
    "id": "1npInH3gHvHv"
   },
   "source": [
    "### <font style=\"color:rgb(50,120,230)\">Scalar Division</font>"
   ]
  },
  {
   "cell_type": "code",
   "execution_count": 7,
   "metadata": {
    "id": "mkoXE_-nHvHv",
    "outputId": "4086107b-d56e-40e0-9e18-a1e06441ade0"
   },
   "outputs": [
    {
     "data": {
      "text/plain": [
       "array([[0.05900046, 0.01049525, 0.05500797, 0.06634643],\n",
       "       [0.00051633, 0.09074339, 0.05737629, 0.03086295],\n",
       "       [0.0602705 , 0.08801744, 0.04460596, 0.01693424],\n",
       "       [0.03178896, 0.07541939, 0.02344321, 0.02309229]])"
      ]
     },
     "execution_count": 7,
     "metadata": {},
     "output_type": "execute_result"
    }
   ],
   "source": [
    "a/10 # Element wise scalar division."
   ]
  },
  {
   "cell_type": "markdown",
   "metadata": {
    "id": "jHJRr1MNHvHv"
   },
   "source": [
    "### 1.2 Element-Wise Array Operations"
   ]
  },
  {
   "cell_type": "markdown",
   "metadata": {
    "id": "Bofpk58CHvHw"
   },
   "source": [
    "### <font style=\"color:rgb(50,120,230)\">Array Addition</font>"
   ]
  },
  {
   "cell_type": "code",
   "execution_count": 8,
   "metadata": {
    "id": "XKa_rsCEHvHw",
    "outputId": "1dcefbae-e42d-4a0a-84fc-656a49bab68f"
   },
   "outputs": [
    {
     "data": {
      "text/plain": [
       "array([[0.7827217 , 0.14640247, 1.1073723 , 1.36786399],\n",
       "       [0.61715245, 1.1098465 , 0.6728134 , 1.15176007],\n",
       "       [1.23244991, 1.29415648, 0.70269863, 0.66962288],\n",
       "       [0.87960605, 1.74385783, 1.06673772, 0.82366739]])"
      ]
     },
     "execution_count": 8,
     "metadata": {},
     "output_type": "execute_result"
    }
   ],
   "source": [
    "a + b # Element wise array/vector addition."
   ]
  },
  {
   "cell_type": "markdown",
   "metadata": {
    "id": "ESSSSF91HvHy"
   },
   "source": [
    "### <font style=\"color:rgb(50,120,230)\">Array Subtraction</font>"
   ]
  },
  {
   "cell_type": "code",
   "execution_count": 9,
   "metadata": {
    "id": "z1Nh0f-VHvHy",
    "outputId": "28383834-c467-489b-8af4-c42ca114c881"
   },
   "outputs": [
    {
     "data": {
      "text/plain": [
       "array([[ 0.3972874 ,  0.06350255, -0.00721288, -0.04093539],\n",
       "       [-0.60682581,  0.70502129,  0.47471243, -0.5345011 ],\n",
       "       [-0.02703997,  0.46619232,  0.18942058, -0.33093816],\n",
       "       [-0.24382677, -0.23547003, -0.59787349, -0.36182149]])"
      ]
     },
     "execution_count": 9,
     "metadata": {},
     "output_type": "execute_result"
    }
   ],
   "source": [
    "a - b # Element wise array/vector subtraction."
   ]
  },
  {
   "cell_type": "markdown",
   "metadata": {
    "id": "fP6X8L1ZHvHy"
   },
   "source": [
    "### <font style=\"color:rgb(50,120,230)\">Array Multiplication</font>"
   ]
  },
  {
   "cell_type": "code",
   "execution_count": 10,
   "metadata": {
    "id": "9ZvWU6fjHvHy",
    "outputId": "4325f640-c66b-4d2d-83f2-a19113f08d2b"
   },
   "outputs": [
    {
     "data": {
      "text/plain": [
       "array([[0.11370399, 0.00435028, 0.30655535, 0.46734404],\n",
       "       [0.00315989, 0.18367606, 0.05683149, 0.26021496],\n",
       "       [0.3795504 , 0.36437643, 0.1144763 , 0.08471869],\n",
       "       [0.17856383, 0.7463985 , 0.19511916, 0.13687829]])"
      ]
     },
     "execution_count": 10,
     "metadata": {},
     "output_type": "execute_result"
    }
   ],
   "source": [
    "a * b # Element wise array/vector multiplication."
   ]
  },
  {
   "cell_type": "markdown",
   "metadata": {
    "id": "VDVd7xSiHvHz"
   },
   "source": [
    "### <font style=\"color:rgb(50,120,230)\">Array Division</font>"
   ]
  },
  {
   "cell_type": "code",
   "execution_count": 11,
   "metadata": {
    "id": "VI5scJuLHvHz",
    "outputId": "3efe5887-17be-4157-fe8d-094d07f405aa"
   },
   "outputs": [
    {
     "data": {
      "text/plain": [
       "array([[3.0615052 , 2.53202925, 0.98705728, 0.94188613],\n",
       "       [0.00843694, 4.48308985, 5.79263126, 0.36605182],\n",
       "       [0.95706204, 2.12611716, 1.73808173, 0.33849482],\n",
       "       [0.56592549, 0.76207072, 0.28166591, 0.38958264]])"
      ]
     },
     "execution_count": 11,
     "metadata": {},
     "output_type": "execute_result"
    }
   ],
   "source": [
    "a / b # element wise array/vector division"
   ]
  },
  {
   "cell_type": "markdown",
   "metadata": {
    "id": "dWNN2R1mHvHz"
   },
   "source": [
    "Notice that the dimension of both arrays are equal in the above array element-wise operations. **What if the dimensions are not equal.** Let's check!"
   ]
  },
  {
   "cell_type": "code",
   "execution_count": 12,
   "metadata": {
    "id": "6lpnhqYEHvHz",
    "outputId": "94b62329-b24a-4b86-e4e0-33abc92b4e75"
   },
   "outputs": [
    {
     "name": "stdout",
     "output_type": "stream",
     "text": [
      "Array \"a\":\n",
      "Array:\n",
      "[[0.59000455 0.10495251 0.55007971 0.6634643 ]\n",
      " [0.00516332 0.9074339  0.57376291 0.30862948]\n",
      " [0.60270497 0.8801744  0.4460596  0.16934236]\n",
      " [0.31788964 0.7541939  0.23443211 0.23092295]]\n",
      "Data type:\tfloat64\n",
      "Array shape:\t(4, 4)\n",
      "Array Dim:\t2\n",
      "\n",
      "Array \"c\":\n",
      "Array:\n",
      "[[0.27482982 0.62380746 0.92564048 0.67766524]\n",
      " [0.17040837 0.42568521 0.96821731 0.805421  ]]\n",
      "Data type:\tfloat64\n",
      "Array shape:\t(2, 4)\n",
      "Array Dim:\t2\n",
      "\n"
     ]
    },
    {
     "name": "stderr",
     "output_type": "stream",
     "text": [
      "Traceback (most recent call last):\n",
      "  File \"C:\\Users\\kshnt\\AppData\\Local\\Temp\\ipykernel_14544\\3053537578.py\", line 10, in <module>\n",
      "    a + c\n",
      "ValueError: operands could not be broadcast together with shapes (4,4) (2,4) \n"
     ]
    }
   ],
   "source": [
    "print('Array \"a\":')\n",
    "array_info(a)\n",
    "print('Array \"c\":')\n",
    "c = np.random.rand(2, 4)\n",
    "array_info(c)\n",
    "\n",
    "# Should throw ValueError.\n",
    "import traceback\n",
    "try:\n",
    "    a + c\n",
    "except Exception:\n",
    "    traceback.print_exc()"
   ]
  },
  {
   "cell_type": "markdown",
   "metadata": {
    "id": "TJJByIVLHvHz"
   },
   "source": [
    "<font color='red'>**Oh, got the ValueError!!**</font>\n",
    "\n",
    "What is this error?\n",
    "\n",
    "<font color='red'>ValueError</font>: operands could not be broadcast together with shapes `(4,4)` `(2,2)` "
   ]
  },
  {
   "cell_type": "markdown",
   "metadata": {
    "id": "-Tfs85kWHvH0"
   },
   "source": [
    "### 1.3 Broadcasting\n",
    "\n",
    "There is a concept of broadcasting in NumPy, which tries to copy rows or columns in the lower-dimensional array to make an equal dimensional array of higher-dimensional array. \n",
    "\n",
    "<hr style=\"border:none; height: 4px; background-color:#D3D3D3\" />\n",
    "\n",
    "Documentation: <a href=\"https://numpy.org/doc/stable/user/basics.broadcasting.html\" target=_blank>broadcasting</a>\n",
    "\n",
    "When operating on two arrays, NumPy compares their shapes element-wise. It starts with the trailing (i.e., rightmost) dimensions and works its way left. Two dimensions are compatible when:\n",
    "\n",
    " - They are equal, or\n",
    " - One of them is 1\n",
    " \n",
    "The examples below show how `B` is successfully broadcasted to `A` according to the rules above.\n",
    " \n",
    "``` python\n",
    "A      (2d array):  5 x 4\n",
    "B      (1d array):      1\n",
    "Result (2d array):  5 x 4\n",
    "\n",
    "A      (2d array):  5 x 4\n",
    "B      (1d array):      4\n",
    "Result (2d array):  5 x 4\n",
    "\n",
    "A      (3d array):  15 x 3 x 5\n",
    "B      (3d array):  15 x 1 x 5\n",
    "Result (3d array):  15 x 3 x 5\n",
    "\n",
    "A      (3d array):  15 x 3 x 5\n",
    "B      (2d array):       3 x 5\n",
    "Result (3d array):  15 x 3 x 5\n",
    "\n",
    "A      (3d array):  15 x 3 x 5\n",
    "B      (2d array):       3 x 1\n",
    "Result (3d array):  15 x 3 x 5\n",
    "```\n",
    "\n",
    "<hr style=\"border:none; height: 4px; background-color:#D3D3D3\" />"
   ]
  },
  {
   "cell_type": "code",
   "execution_count": 13,
   "metadata": {
    "id": "BO7iCn7WHvH0",
    "outputId": "2b60c5d8-1ac8-45e0-9559-26b307ae5711"
   },
   "outputs": [
    {
     "name": "stdout",
     "output_type": "stream",
     "text": [
      "Array \"a\":\n",
      "Array:\n",
      "[[1 2 3]\n",
      " [4 5 6]\n",
      " [7 8 9]]\n",
      "Data type:\tint32\n",
      "Array shape:\t(3, 3)\n",
      "Array Dim:\t2\n",
      "\n",
      "Array \"b\":\n",
      "Array:\n",
      "[0 1 0]\n",
      "Data type:\tint32\n",
      "Array shape:\t(3,)\n",
      "Array Dim:\t1\n",
      "\n",
      "Array \"a+b\":\n",
      "Array:\n",
      "[[1 3 3]\n",
      " [4 6 6]\n",
      " [7 9 9]]\n",
      "Data type:\tint32\n",
      "Array shape:\t(3, 3)\n",
      "Array Dim:\t2\n",
      "\n"
     ]
    }
   ],
   "source": [
    "a = np.array([[1, 2, 3], [4, 5, 6],[7, 8, 9]])\n",
    "b = np.array([0, 1, 0])\n",
    "\n",
    "print('Array \"a\":')\n",
    "array_info(a)\n",
    "print('Array \"b\":')\n",
    "array_info(b)\n",
    "\n",
    "print('Array \"a+b\":')\n",
    "array_info(a + b)  # b is reshaped such that it can be added to a.\n",
    "\n",
    "# b = [0,1,0] is broadcasted to     [[0, 1, 0],\n",
    "#                                    [0, 1, 0],\n",
    "#                                    [0, 1, 0]]  and added to a."
   ]
  },
  {
   "cell_type": "markdown",
   "metadata": {
    "id": "QpgY47AtHvH0"
   },
   "source": [
    "## 2 Linear Algebra\n",
    "\n",
    "In this section, we will take a look at the most commonly used linear algebra operations used in machine learning."
   ]
  },
  {
   "cell_type": "markdown",
   "metadata": {
    "id": "0QzeoEJjHvH0"
   },
   "source": [
    "## 2.1 Transpose\n",
    "\n",
    "<hr style=\"border:none; height: 4px; background-color:#D3D3D3\" />\n",
    "\n",
    "Either syntax below can be used:\n",
    "\n",
    "``` python\n",
    "result = np.transpose(a, axes=None)\n",
    "\n",
    "result = a.transpose(*axes)\n",
    "\n",
    "result = a.T\n",
    "```\n",
    "\n",
    "Returns a view of the NumPy array `a` with axes transposed.\n",
    "\n",
    "Documentation: <a href=\"https://numpy.org/doc/stable/reference/generated/numpy.transpose.html\" target=_blank>np.transpose</a>\n",
    "\n",
    "<hr style=\"border:none; height: 4px; background-color:#D3D3D3\" />\n"
   ]
  },
  {
   "cell_type": "code",
   "execution_count": 14,
   "metadata": {
    "id": "r5go-3TdHvH0",
    "outputId": "22fbd2b4-4978-404f-c1e8-eb858c0cabc9"
   },
   "outputs": [
    {
     "name": "stdout",
     "output_type": "stream",
     "text": [
      "Array \"a\":\n",
      "Array:\n",
      "[[0.00388805 0.57431544 0.11390374]\n",
      " [0.13128825 0.82559144 0.74652218]]\n",
      "Data type:\tfloat64\n",
      "Array shape:\t(2, 3)\n",
      "Array Dim:\t2\n",
      "\n",
      "Transose of \"a\":\n",
      "Array:\n",
      "[[0.00388805 0.13128825]\n",
      " [0.57431544 0.82559144]\n",
      " [0.11390374 0.74652218]]\n",
      "Data type:\tfloat64\n",
      "Array shape:\t(3, 2)\n",
      "Array Dim:\t2\n",
      "\n"
     ]
    }
   ],
   "source": [
    "a = np.random.random((2,3))\n",
    "print('Array \"a\":')\n",
    "array_info(a)\n",
    "\n",
    "print('Transose of \"a\":')\n",
    "a_transpose = a.transpose()  # Or a.T\n",
    "array_info(a_transpose)"
   ]
  },
  {
   "cell_type": "markdown",
   "metadata": {
    "id": "qsKNn9Y6HvH1"
   },
   "source": [
    "### 2.2 Matrix Multiplication\n",
    "We will discuss two ways of performing matrix multiplication.\n",
    "\n",
    "- `np.matmul`\n",
    "- Python `@` operator\n",
    "\n",
    "### <font style=\"color:rgb(50,120,230)\">Using: `matmul`</font>\n",
    "\n",
    "<hr style=\"border:none; height: 4px; background-color:#D3D3D3\" />\n",
    "\n",
    "Using `matmul` is the most common approach for multiplying two matrices using Numpy. Multiplying two matrices requires that the number of columns of the first matrix, `M`, equals the number of rows in the second matrix, `N`, as shown below.\n",
    "\n",
    "``` python\n",
    "   M        N      \n",
    "[p, q] x [q, r] = [p , r]\n",
    "```\n",
    "Documentation: <a href=\"https://docs.scipy.org/doc/numpy/reference/generated/numpy.matmul.html\" target=_blank>np.matmul</a>\n",
    "\n",
    "<hr style=\"border:none; height: 4px; background-color:#D3D3D3\" />"
   ]
  },
  {
   "cell_type": "code",
   "execution_count": 15,
   "metadata": {
    "id": "k7MrCHnDHvH1",
    "outputId": "f925c099-3d12-4b4b-dd4b-cde5e2f799ca"
   },
   "outputs": [
    {
     "name": "stdout",
     "output_type": "stream",
     "text": [
      "Array \"a\":\n",
      "Array:\n",
      "[[0.61450926 0.02317411 0.88381983 0.45765777]\n",
      " [0.02280803 0.51901748 0.36282099 0.54985297]\n",
      " [0.68979582 0.55733893 0.87176516 0.82261643]]\n",
      "Data type:\tfloat64\n",
      "Array shape:\t(3, 4)\n",
      "Array Dim:\t2\n",
      "\n",
      "Array \"b\"\n",
      "Array:\n",
      "[[0.39191183 0.67047728]\n",
      " [0.78564432 0.74712691]\n",
      " [0.97626218 0.20610525]\n",
      " [0.98659335 0.82169737]]\n",
      "Data type:\tfloat64\n",
      "Array shape:\t(4, 2)\n",
      "Array Dim:\t2\n",
      "\n",
      "matrix multiplication of a and b:\n",
      "Array:\n",
      "[[1.57340205 0.98754458]\n",
      " [1.31339156 0.92965623]\n",
      " [2.37086857 1.73451247]]\n",
      "Data type:\tfloat64\n",
      "Array shape:\t(3, 2)\n",
      "Array Dim:\t2\n",
      "\n",
      "(3, 4) x (4, 2) --> (3, 2)\n"
     ]
    }
   ],
   "source": [
    "a = np.random.random((3, 4))\n",
    "b = np.random.random((4, 2))\n",
    "\n",
    "print('Array \"a\":')\n",
    "array_info(a)\n",
    "print('Array \"b\"')\n",
    "array_info(b)\n",
    "\n",
    "# Matrix multiplication of a and b.\n",
    "c = np.matmul(a,b) \n",
    "\n",
    "print('matrix multiplication of a and b:')\n",
    "array_info(c)\n",
    "\n",
    "print('{} x {} --> {}'.format(a.shape, b.shape, c.shape)) # dim-1 of a and dim-0 of b has to be \n",
    "                                                          # same for matrix multiplication"
   ]
  },
  {
   "cell_type": "markdown",
   "metadata": {
    "id": "bWkSiPrhHvH1"
   },
   "source": [
    "### <font style=\"color:rgb(50,120,230)\">Using: `@` operator</font>\n",
    "\n",
    "This method of multiplication was introduced in Python 3.5. <a href=\"https://www.python.org/dev/peps/pep-0465/\" target=_blank>See docs</a>."
   ]
  },
  {
   "cell_type": "code",
   "execution_count": 16,
   "metadata": {
    "id": "dEgb2I7hHvH1",
    "outputId": "4ed42015-27fe-416a-e3c8-72295c114bd9"
   },
   "outputs": [
    {
     "name": "stdout",
     "output_type": "stream",
     "text": [
      "Array \"a\":\n",
      "Array:\n",
      "[[0.89917071 0.92855751 0.84510913 0.52408771]\n",
      " [0.96479465 0.67068534 0.02773653 0.21388542]\n",
      " [0.65964823 0.02031664 0.91829772 0.96743652]]\n",
      "Data type:\tfloat64\n",
      "Array shape:\t(3, 4)\n",
      "Array Dim:\t2\n",
      "\n",
      "Array \"b\"\n",
      "Array:\n",
      "[[0.03925438 0.03574875]\n",
      " [0.89727935 0.24924441]\n",
      " [0.60899186 0.85343453]\n",
      " [0.42218206 0.86412658]]\n",
      "Data type:\tfloat64\n",
      "Array shape:\t(4, 2)\n",
      "Array Dim:\t2\n",
      "\n",
      "Array:\n",
      "[[1.60439688 1.43770542]\n",
      " [0.74685443 0.41015016]\n",
      " [1.01179396 1.64834   ]]\n",
      "Data type:\tfloat64\n",
      "Array shape:\t(3, 2)\n",
      "Array Dim:\t2\n",
      "\n"
     ]
    }
   ],
   "source": [
    "a = np.random.random((3, 4))\n",
    "b = np.random.random((4, 2))\n",
    "\n",
    "print('Array \"a\":')\n",
    "array_info(a)\n",
    "print('Array \"b\"')\n",
    "array_info(b)\n",
    "\n",
    "# Matrix multiplication of a and b.\n",
    "c = a@b \n",
    "array_info(c)"
   ]
  },
  {
   "cell_type": "markdown",
   "metadata": {
    "id": "iIWu52Pn35S0"
   },
   "source": [
    "### 2.3 Matrix Inverse\n",
    "\n",
    "<hr style=\"border:none; height: 4px; background-color:#D3D3D3\" />\n",
    "\n",
    "``` python\n",
    "np.linalg.inv(a)\n",
    "```\n",
    "\n",
    "For a square matrix, `a`, compute the (multiplicative) inverse of a matrix.\n",
    "\n",
    "Documentation: <a href=\"https://numpy.org/doc/stable/reference/generated/numpy.linalg.inv.html?highlight=matrix%20inverse\" target=_blank>np.linalg.inv</a>\n",
    "\n",
    "<hr style=\"border:none; height: 4px; background-color:#D3D3D3\" />\n"
   ]
  },
  {
   "cell_type": "code",
   "execution_count": 17,
   "metadata": {
    "id": "NZaXtR-uHvH2",
    "outputId": "0af84798-7827-4d11-c4b6-ca92d76ff142"
   },
   "outputs": [
    {
     "name": "stdout",
     "output_type": "stream",
     "text": [
      "Array \"A\":\n",
      "Array:\n",
      "[[0.1877801  0.51900504 0.47100914]\n",
      " [0.96076937 0.36961799 0.82478408]\n",
      " [0.03535137 0.71171664 0.47593478]]\n",
      "Data type:\tfloat64\n",
      "Array shape:\t(3, 3)\n",
      "Array Dim:\t2\n",
      "\n",
      "Inverse of \"A\" (\"A_inverse\"):\n",
      "Array:\n",
      "[[-24.86373287   5.33519798  15.36063206]\n",
      " [-25.89238591   4.39820907  18.00241948]\n",
      " [ 40.56650154  -6.97340328 -25.96078591]]\n",
      "Data type:\tfloat64\n",
      "Array shape:\t(3, 3)\n",
      "Array Dim:\t2\n",
      "\n",
      "\"A x A_inverse = Identity\" should be true:\n",
      "Array:\n",
      "[[1.00000000e+00 0.00000000e+00 1.77635684e-15]\n",
      " [7.10542736e-15 1.00000000e+00 0.00000000e+00]\n",
      " [3.55271368e-15 0.00000000e+00 1.00000000e+00]]\n",
      "Data type:\tfloat64\n",
      "Array shape:\t(3, 3)\n",
      "Array Dim:\t2\n",
      "\n"
     ]
    }
   ],
   "source": [
    "A = np.random.random((3,3))\n",
    "print('Array \"A\":')\n",
    "array_info(A)\n",
    "\n",
    "A_inverse = np.linalg.inv(A)\n",
    "print('Inverse of \"A\" (\"A_inverse\"):')\n",
    "array_info(A_inverse)\n",
    "\n",
    "print('\"A x A_inverse = Identity\" should be true:')\n",
    "A_X_A_inverse = np.matmul(A, A_inverse)  # A x A_inverse = I = Identity matrix\n",
    "array_info(A_X_A_inverse)"
   ]
  },
  {
   "cell_type": "markdown",
   "metadata": {
    "id": "dZ8RyI11HvH2"
   },
   "source": [
    "### 2.4 Dot Product\n",
    "\n",
    "The dot product between two euqal length vectors is a scalar defined by the sum of the element-wise product of the two vectors.\n",
    "\n",
    "<hr style=\"border:none; height: 4px; background-color:#D3D3D3\" />\n",
    "\n",
    "``` python\n",
    "np.dot(a, b, out=None)\n",
    "```\n",
    "\n",
    "\n",
    "Documentation: <a href=\"https://numpy.org/doc/stable/reference/generated/numpy.dot.html?highlight=dot%20product\" target=_blank>np.dot</a>\n",
    "\n",
    "<hr style=\"border:none; height: 4px; background-color:#D3D3D3\" />\n"
   ]
  },
  {
   "cell_type": "code",
   "execution_count": 18,
   "metadata": {
    "id": "b1iIv5FaHvH2",
    "outputId": "20e677d1-5e38-4554-d910-7abc564ffe17"
   },
   "outputs": [
    {
     "name": "stdout",
     "output_type": "stream",
     "text": [
      "Array:\n",
      "[1 2 3 4]\n",
      "Data type:\tint32\n",
      "Array shape:\t(4,)\n",
      "Array Dim:\t1\n",
      "\n",
      "Array:\n",
      "[5 6 7 8]\n",
      "Data type:\tint32\n",
      "Array shape:\t(4,)\n",
      "Array Dim:\t1\n",
      "\n",
      "Array:\n",
      "70\n",
      "Data type:\tint32\n",
      "Array shape:\t()\n",
      "Array Dim:\t0\n",
      "\n"
     ]
    }
   ],
   "source": [
    "a = np.array([1, 2, 3, 4])\n",
    "b = np.array([5, 6, 7, 8])\n",
    "\n",
    "array_info(a)\n",
    "array_info(b)\n",
    "\n",
    "dot_prod = np.dot(a, b) \n",
    "array_info(dot_prod)"
   ]
  },
  {
   "cell_type": "markdown",
   "metadata": {
    "id": "8cjIE8hGHvH3"
   },
   "source": [
    "## 3 Array Statistics"
   ]
  },
  {
   "cell_type": "markdown",
   "metadata": {
    "id": "-HOjs-cVHvH3"
   },
   "source": [
    "### 3.1 Sum"
   ]
  },
  {
   "cell_type": "code",
   "execution_count": 19,
   "metadata": {
    "id": "Qdzq9ul7HvH3",
    "outputId": "9ba2955f-192e-4fd3-ce3a-83b08f1e120e"
   },
   "outputs": [
    {
     "name": "stdout",
     "output_type": "stream",
     "text": [
      "15\n"
     ]
    }
   ],
   "source": [
    "a = np.array([1, 2, 3, 4, 5])\n",
    "\n",
    "print(a.sum())"
   ]
  },
  {
   "cell_type": "markdown",
   "metadata": {
    "id": "6now4zePHvH3"
   },
   "source": [
    "### 3.2 Sum Along Axis"
   ]
  },
  {
   "cell_type": "code",
   "execution_count": 20,
   "metadata": {
    "id": "ul2TJrxRHvH3",
    "outputId": "c471b67e-4996-4242-d1c0-0198969b8ee7"
   },
   "outputs": [
    {
     "name": "stdout",
     "output_type": "stream",
     "text": [
      "Array:\n",
      "[[1 2 3]\n",
      " [4 5 6]]\n",
      "Data type:\tint32\n",
      "Array shape:\t(2, 3)\n",
      "Array Dim:\t2\n",
      "\n",
      "\n",
      "sum along axis=0:  [5 7 9]\n",
      "\n",
      "sum along axis=1:  [ 6 15]\n"
     ]
    }
   ],
   "source": [
    "a = np.array([[1, 2, 3], [4, 5, 6]])\n",
    "array_info(a)\n",
    "print('')\n",
    "\n",
    "print('sum along axis=0: ',a.sum(axis = 0)) # Sum along axis=0 ie: 1+4, 2+5, 3+6\n",
    "print(\"\")\n",
    "print('sum along axis=1: ',a.sum(axis = 1)) # Sum along axis=1 ie: 1+2+3, 4+5+6"
   ]
  },
  {
   "cell_type": "markdown",
   "metadata": {
    "id": "hOCEcGgpHvH4"
   },
   "source": [
    "### 3.3 Minimum and Maximum"
   ]
  },
  {
   "cell_type": "code",
   "execution_count": 21,
   "metadata": {
    "id": "0hqHKLRdHvH4",
    "outputId": "346b971c-36c2-431f-fc44-2e81fd99541f"
   },
   "outputs": [
    {
     "name": "stdout",
     "output_type": "stream",
     "text": [
      "Minimum =  -1.1\n",
      "Maximum =  100.0\n"
     ]
    }
   ],
   "source": [
    "a = np.array([-1.1, 2, 5, 100])\n",
    "\n",
    "print('Minimum = ', a.min())\n",
    "print('Maximum = ', a.max())"
   ]
  },
  {
   "cell_type": "markdown",
   "metadata": {
    "id": "gfg1O0-5HvH4"
   },
   "source": [
    "### 3.4 Min and Max along Axis"
   ]
  },
  {
   "cell_type": "code",
   "execution_count": 22,
   "metadata": {
    "id": "HTINIBoCHvH4",
    "outputId": "17d210c3-ffe5-45f4-dfaf-e58e112f4cde"
   },
   "outputs": [
    {
     "name": "stdout",
     "output_type": "stream",
     "text": [
      "Array:\n",
      "[[-2  0  4]\n",
      " [ 1  2  3]]\n",
      "Data type:\tint32\n",
      "Array shape:\t(2, 3)\n",
      "Array Dim:\t2\n",
      "\n",
      "a =\n",
      " [[-2  0  4]\n",
      " [ 1  2  3]] \n",
      "\n",
      "Minimum =  -2\n",
      "Maximum =  4\n",
      "\n",
      "Minimum along axis 0 =  [-2  0  3]\n",
      "Maximum along axis 0 =  [1 2 4]\n",
      "\n",
      "Minimum along axis 1 =  [-2  1]\n",
      "Maximum along axis 1 =  [4 3]\n"
     ]
    }
   ],
   "source": [
    "a = np.array([[-2, 0, 4], [1, 2, 3]])\n",
    "\n",
    "array_info(a)\n",
    "\n",
    "print('a =\\n',a,'\\n')\n",
    "print('Minimum = ', a.min())\n",
    "print('Maximum = ', a.max())\n",
    "print()\n",
    "print('Minimum along axis 0 = ', a.min(0))\n",
    "print('Maximum along axis 0 = ', a.max(0))\n",
    "print()\n",
    "print('Minimum along axis 1 = ', a.min(1))\n",
    "print('Maximum along axis 1 = ', a.max(1))"
   ]
  },
  {
   "cell_type": "markdown",
   "metadata": {
    "id": "duzWUeVcHvH5"
   },
   "source": [
    "### 3.5 Mean and Standard Deviation"
   ]
  },
  {
   "cell_type": "code",
   "execution_count": 23,
   "metadata": {
    "id": "SMBfODD6HvH5",
    "outputId": "ec39b9de-1aa6-4d8b-b5b8-0352848d7261"
   },
   "outputs": [
    {
     "name": "stdout",
     "output_type": "stream",
     "text": [
      "Mean of the array               = 3.133333\n",
      "Standard deviation of the array = 1.684900\n"
     ]
    }
   ],
   "source": [
    "# Create some data.\n",
    "data = np.array([1.2, 2.3, 5.0, 3.3, 1.4, 5.6])\n",
    "\n",
    "print('Mean of the array               = {:8.6f}'.format(data.mean()))\n",
    "print('Standard deviation of the array = {:8.6f}'.format(data.std()))"
   ]
  },
  {
   "cell_type": "markdown",
   "metadata": {
    "id": "N0ymt6ICHvH5"
   },
   "source": [
    "### 3.6 Standardizing an Array\n",
    "\n",
    "Normalize the data array to have `mean=0` and `std=1`."
   ]
  },
  {
   "cell_type": "code",
   "execution_count": 24,
   "metadata": {
    "id": "n3x7_N59HvH5",
    "outputId": "230e6257-75cc-479e-8129-573554a83dd0"
   },
   "outputs": [
    {
     "name": "stdout",
     "output_type": "stream",
     "text": [
      "Array              =  [1.2 2.3 5.  3.3 1.4 5.6]\n",
      "Mean               = 3.133333\n",
      "Standard deviation = 1.684900\n",
      "\n",
      "Standardized Array =  [-1.14744675 -0.49458912  1.10787962  0.09891782 -1.02874536  1.46398379]\n",
      "Mean               = -0.000000\n",
      "Standard deviation = 1.000000\n"
     ]
    }
   ],
   "source": [
    "print('Array              = ', data)\n",
    "print('Mean               = {:8.6f}'.format(data.mean()))\n",
    "print('Standard deviation = {:8.5f}'.format(data.std()))\n",
    "print()\n",
    "\n",
    "standardized_array = (data - data.mean())/data.std()\n",
    "\n",
    "print('Standardized Array = ', standardized_array)\n",
    "print('Mean               = {:8.6f}'.format(standardized_array.mean()))  \n",
    "print('Standard deviation = {:8.6f}'.format(standardized_array.std()))   "
   ]
  },
  {
   "cell_type": "code",
   "execution_count": null,
   "metadata": {
    "id": "LN9ohY1uHvH6"
   },
   "outputs": [],
   "source": []
  },
  {
   "cell_type": "code",
   "execution_count": null,
   "metadata": {},
   "outputs": [],
   "source": []
  }
 ],
 "metadata": {
  "colab": {
   "name": "week_01_09_Numpy_Refresher_Part_3.ipynb",
   "provenance": []
  },
  "jupytext": {
   "encoding": "# -*- coding: utf-8 -*-",
   "formats": "ipynb,py:light"
  },
  "kernelspec": {
   "display_name": "Python 3 (ipykernel)",
   "language": "python",
   "name": "python3"
  },
  "language_info": {
   "codemirror_mode": {
    "name": "ipython",
    "version": 3
   },
   "file_extension": ".py",
   "mimetype": "text/x-python",
   "name": "python",
   "nbconvert_exporter": "python",
   "pygments_lexer": "ipython3",
   "version": "3.10.0"
  },
  "latex_envs": {
   "LaTeX_envs_menu_present": true,
   "autoclose": false,
   "autocomplete": true,
   "bibliofile": "biblio.bib",
   "cite_by": "apalike",
   "current_citInitial": 1,
   "eqLabelWithNumbers": true,
   "eqNumInitial": 1,
   "hotkeys": {
    "equation": "Ctrl-E",
    "itemize": "Ctrl-I"
   },
   "labels_anchors": false,
   "latex_user_defs": false,
   "report_style_numbering": false,
   "user_envs_cfg": false
  },
  "toc": {
   "base_numbering": 1,
   "nav_menu": {},
   "number_sections": true,
   "sideBar": true,
   "skip_h1_title": false,
   "title_cell": "Table of Contents",
   "title_sidebar": "Contents",
   "toc_cell": false,
   "toc_position": {},
   "toc_section_display": true,
   "toc_window_display": false
  },
  "varInspector": {
   "cols": {
    "lenName": 16,
    "lenType": 16,
    "lenVar": 40
   },
   "kernels_config": {
    "python": {
     "delete_cmd_postfix": "",
     "delete_cmd_prefix": "del ",
     "library": "var_list.py",
     "varRefreshCmd": "print(var_dic_list())"
    },
    "r": {
     "delete_cmd_postfix": ") ",
     "delete_cmd_prefix": "rm(",
     "library": "var_list.r",
     "varRefreshCmd": "cat(var_dic_list()) "
    }
   },
   "types_to_exclude": [
    "module",
    "function",
    "builtin_function_or_method",
    "instance",
    "_Feature"
   ],
   "window_display": false
  }
 },
 "nbformat": 4,
 "nbformat_minor": 4
}
