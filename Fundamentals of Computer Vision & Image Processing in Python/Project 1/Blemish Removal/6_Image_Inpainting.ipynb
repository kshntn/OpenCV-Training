{
 "cells": [
  {
   "cell_type": "code",
   "execution_count": 1,
   "metadata": {},
   "outputs": [],
   "source": [
    "import numpy as np\n",
    "import cv2 as cv"
   ]
  },
  {
   "cell_type": "code",
   "execution_count": 2,
   "metadata": {},
   "outputs": [],
   "source": [
    "# OpenCV Utility Class for Mouse Handling\n",
    "class Sketcher:\n",
    "    def __init__(self, windowname, dests, colors_func):\n",
    "        self.prev_pt = None\n",
    "        self.windowname = windowname\n",
    "        self.dests = dests\n",
    "        self.colors_func = colors_func\n",
    "        self.dirty = False\n",
    "        self.show()\n",
    "        cv.setMouseCallback(self.windowname, self.on_mouse)\n",
    "\n",
    "    def show(self):\n",
    "        cv.imshow(self.windowname, self.dests[0])\n",
    "        cv.imshow(self.windowname + \": mask\", self.dests[1])\n",
    "\n",
    "    # onMouse function for Mouse Handling\n",
    "    def on_mouse(self, event, x, y, flags, param):\n",
    "        pt = (x, y)\n",
    "        if event == cv.EVENT_LBUTTONDOWN:\n",
    "            self.prev_pt = pt\n",
    "        elif event == cv.EVENT_LBUTTONUP:\n",
    "            self.prev_pt = None\n",
    "\n",
    "        if self.prev_pt and flags & cv.EVENT_FLAG_LBUTTON:\n",
    "            for dst, color in zip(self.dests, self.colors_func()):\n",
    "                cv.line(dst, self.prev_pt, pt, color, 5)\n",
    "            self.dirty = True\n",
    "            self.prev_pt = pt\n",
    "            self.show()"
   ]
  },
  {
   "cell_type": "code",
   "execution_count": 3,
   "metadata": {},
   "outputs": [],
   "source": [
    "# Read image in color mode\n",
    "filename = \"blemish.png\"\n",
    "img = cv.imread(filename, cv.IMREAD_COLOR)\n",
    "\n",
    "# If image is not read properly, return error\n",
    "if img is None:\n",
    "    print('Failed to load image file: {}'.format(filename))"
   ]
  },
  {
   "cell_type": "code",
   "execution_count": 4,
   "metadata": {},
   "outputs": [],
   "source": [
    "# Create a copy of original image\n",
    "img_mask = img.copy()\n",
    "# Create a black copy of original image\n",
    "# Acts as a mask\n",
    "inpaintMask = np.zeros(img.shape[:2], np.uint8)\n",
    "# Create sketch using OpenCV Utility Class: Sketcher\n",
    "sketch = Sketcher('image', [img_mask, inpaintMask], lambda : ((0, 255, 255), 255))"
   ]
  },
  {
   "cell_type": "code",
   "execution_count": 5,
   "metadata": {},
   "outputs": [
    {
     "ename": "KeyboardInterrupt",
     "evalue": "",
     "output_type": "error",
     "traceback": [
      "\u001b[1;31m---------------------------------------------------------------------------\u001b[0m",
      "\u001b[1;31mKeyboardInterrupt\u001b[0m                         Traceback (most recent call last)",
      "Cell \u001b[1;32mIn[5], line 2\u001b[0m\n\u001b[0;32m      1\u001b[0m \u001b[38;5;28;01mwhile\u001b[39;00m \u001b[38;5;28;01mTrue\u001b[39;00m:\n\u001b[1;32m----> 2\u001b[0m     ch \u001b[38;5;241m=\u001b[39m \u001b[43mcv\u001b[49m\u001b[38;5;241;43m.\u001b[39;49m\u001b[43mwaitKey\u001b[49m\u001b[43m(\u001b[49m\u001b[43m)\u001b[49m\n\u001b[0;32m      3\u001b[0m     \u001b[38;5;28;01mif\u001b[39;00m ch \u001b[38;5;241m==\u001b[39m \u001b[38;5;241m27\u001b[39m:\n\u001b[0;32m      4\u001b[0m         \u001b[38;5;28;01mbreak\u001b[39;00m\n",
      "\u001b[1;31mKeyboardInterrupt\u001b[0m: "
     ]
    }
   ],
   "source": [
    "while True:\n",
    "    ch = cv.waitKey()\n",
    "    if ch == 27:\n",
    "        break\n",
    "    if ch == ord('t'):\n",
    "        # Use Algorithm proposed by Alexendra Telea: Fast Marching Method (2004)\n",
    "        # Reference: https://pdfs.semanticscholar.org/622d/5f432e515da69f8f220fb92b17c8426d0427.pdf\n",
    "        res = cv.inpaint(src=img_mask, inpaintMask=inpaintMask, inpaintRadius=50, flags=cv.INPAINT_TELEA)\n",
    "        cv.imshow('Inpaint Output using FMM', res)\n",
    "    if ch == ord('n'):\n",
    "        # Use Algorithm proposed by Bertalmio, Marcelo, Andrea L. Bertozzi, and Guillermo Sapiro: Navier-Stokes, Fluid Dynamics, and Image and Video Inpainting (2001)\n",
    "        res = cv.inpaint(src=img_mask, inpaintMask=inpaintMask, inpaintRadius=50, flags=cv.INPAINT_NS)\n",
    "        cv.imshow('Inpaint Output using NS Technique', res)\n",
    "    if ch == ord('r'):\n",
    "        img_mask[:] = img\n",
    "        inpaintMask[:] = 0\n",
    "        sketch.show()"
   ]
  },
  {
   "cell_type": "code",
   "execution_count": null,
   "metadata": {},
   "outputs": [],
   "source": [
    "cv.destroyAllWindows()"
   ]
  },
  {
   "cell_type": "code",
   "execution_count": 23,
   "metadata": {},
   "outputs": [],
   "source": []
  },
  {
   "cell_type": "code",
   "execution_count": 24,
   "metadata": {},
   "outputs": [],
   "source": []
  },
  {
   "cell_type": "code",
   "execution_count": 25,
   "metadata": {},
   "outputs": [],
   "source": []
  },
  {
   "cell_type": "code",
   "execution_count": 26,
   "metadata": {},
   "outputs": [],
   "source": []
  },
  {
   "cell_type": "code",
   "execution_count": 27,
   "metadata": {},
   "outputs": [],
   "source": []
  },
  {
   "cell_type": "code",
   "execution_count": null,
   "metadata": {},
   "outputs": [],
   "source": []
  }
 ],
 "metadata": {
  "kernelspec": {
   "display_name": "Python 3 (ipykernel)",
   "language": "python",
   "name": "python3"
  },
  "language_info": {
   "codemirror_mode": {
    "name": "ipython",
    "version": 3
   },
   "file_extension": ".py",
   "mimetype": "text/x-python",
   "name": "python",
   "nbconvert_exporter": "python",
   "pygments_lexer": "ipython3",
   "version": "3.10.0"
  }
 },
 "nbformat": 4,
 "nbformat_minor": 4
}
