{
 "cells": [
  {
   "cell_type": "code",
   "execution_count": 34,
   "id": "acc83326",
   "metadata": {},
   "outputs": [],
   "source": [
    "import numpy as np\n",
    "import cv2 as cv"
   ]
  },
  {
   "cell_type": "code",
   "execution_count": 35,
   "id": "a8c0bc1e",
   "metadata": {},
   "outputs": [],
   "source": [
    "class Sketcher:\n",
    "    def __init__(self, windowname, dests, colors_func):\n",
    "        self.windowname = windowname\n",
    "        self.dests = dests\n",
    "        self.colors_func = colors_func\n",
    "        self.dirty = False\n",
    "        self.show()\n",
    "        cv.setMouseCallback(self.windowname, self.on_mouse)\n",
    "\n",
    "    def show(self):\n",
    "        cv.imshow(self.windowname, self.dests[0])\n",
    "#         cv.imshow(self.windowname + \": mask\", self.dests[1])\n",
    "\n",
    "    def on_mouse(self,event,x,y,flags,param):\n",
    "        pt = (x, y)\n",
    "        if event == cv.EVENT_FLAG_LBUTTON:\n",
    "            for dst, color in zip(self.dests, self.colors_func()):\n",
    "                cv.circle(dst,pt,10,(255,0,0),-1)\n",
    "                res = cv.inpaint(src=img_mask, inpaintMask=inpaintMask, inpaintRadius=10, flags=cv.INPAINT_TELEA)\n",
    "                cv.imshow('Inpaint Output', res)\n",
    "                mouseX,mouseY=x,y"
   ]
  },
  {
   "cell_type": "code",
   "execution_count": 36,
   "id": "9364f743",
   "metadata": {},
   "outputs": [],
   "source": [
    "filename = \"blemish.png\"\n",
    "img = cv.imread(filename, cv.IMREAD_COLOR)\n",
    "\n",
    "if img is None:\n",
    "    print('Failed to load image file: {}'.format(filename))"
   ]
  },
  {
   "cell_type": "code",
   "execution_count": 37,
   "id": "b44efa2b",
   "metadata": {},
   "outputs": [],
   "source": [
    "img_mask = img.copy()\n",
    "inpaintMask = np.zeros(img.shape[:2], np.uint8)\n",
    "print(\"Radius of 10 used for inpainting. Press Q for exit\")\n",
    "\n",
    "sketch = Sketcher('image', [img_mask, inpaintMask], lambda : ((0, 255, 255), 255))\n"
   ]
  },
  {
   "cell_type": "code",
   "execution_count": 38,
   "id": "4d791921",
   "metadata": {},
   "outputs": [],
   "source": [
    "while(1):\n",
    "    cv.imshow('image',img)\n",
    "    k=cv.waitKey(20) & 0xFF\n",
    "    if k==27:\n",
    "        break\n"
   ]
  },
  {
   "cell_type": "code",
   "execution_count": 39,
   "id": "b9aa1268",
   "metadata": {},
   "outputs": [],
   "source": [
    "cv.destroyAllWindows()"
   ]
  },
  {
   "cell_type": "code",
   "execution_count": null,
   "id": "4c473718",
   "metadata": {},
   "outputs": [],
   "source": []
  },
  {
   "cell_type": "code",
   "execution_count": null,
   "id": "e8387d76",
   "metadata": {},
   "outputs": [],
   "source": []
  }
 ],
 "metadata": {
  "kernelspec": {
   "display_name": "Python 3 (ipykernel)",
   "language": "python",
   "name": "python3"
  },
  "language_info": {
   "codemirror_mode": {
    "name": "ipython",
    "version": 3
   },
   "file_extension": ".py",
   "mimetype": "text/x-python",
   "name": "python",
   "nbconvert_exporter": "python",
   "pygments_lexer": "ipython3",
   "version": "3.10.11"
  }
 },
 "nbformat": 4,
 "nbformat_minor": 5
}
